{
 "cells": [
  {
   "cell_type": "markdown",
   "id": "730cd502",
   "metadata": {},
   "source": [
    "### References\n",
    "\n",
    "- https://adversarial-ml-tutorial.org/adversarial_examples/\n",
    "- https://arxiv.org/pdf/1905.02175.pdf"
   ]
  },
  {
   "cell_type": "code",
   "execution_count": 1,
   "id": "e7ad2cd0",
   "metadata": {},
   "outputs": [],
   "source": [
    "import tensorflow as tf\n",
    "from tensorflow import keras as K\n",
    "import tensorflow_datasets as tfds\n",
    "\n",
    "import numpy as np\n",
    "import scipy.stats as sp\n",
    "import matplotlib.pyplot as plt\n",
    "import pandas as pd\n",
    "import time"
   ]
  },
  {
   "cell_type": "code",
   "execution_count": 8,
   "id": "12a307b0",
   "metadata": {},
   "outputs": [],
   "source": [
    "def normalize(img, label):\n",
    "    return img / 255, label\n",
    "\n",
    "def make_tf_data(raw_ds):\n",
    "    ds = raw_ds.map(normalize)\n",
    "    return ds"
   ]
  },
  {
   "cell_type": "code",
   "execution_count": 9,
   "id": "97201c36",
   "metadata": {},
   "outputs": [],
   "source": [
    "def build_cnn_model(n_layers, n_filters, kernel_size=3, n_classes=10, model_name='basic_cnn'):\n",
    "    \"\"\"Builds basic CNN model for adversarial training; will need to be refactored\n",
    "    non-using default train setup\"\"\"\n",
    "    input_layer = tf.keras.layers.Input(shape=(28,28,1))\n",
    "    \n",
    "    # Add basic convolutional_layer\n",
    "    hidden = tf.keras.layers.Conv2D(n_filters, kernel_size=3, strides=2, activation = 'relu')(input_layer)\n",
    "    # Add single dense, non-linear layer\n",
    "    hidden = tf.keras.layers.Flatten()(hidden)\n",
    "    hidden = tf.keras.layers.Dense(16, activation = 'relu')(hidden)\n",
    "    output = tf.keras.layers.Dense(n_classes, activation='softmax')(hidden) # softmax since multiclass class. problem\n",
    "    \n",
    "    model = tf.keras.Model(inputs=input_layer, outputs=output)\n",
    "    return model"
   ]
  },
  {
   "cell_type": "code",
   "execution_count": 10,
   "id": "4c481223",
   "metadata": {},
   "outputs": [],
   "source": [
    "train_ds = tfds.load('mnist', split='train', shuffle_files=True, as_supervised=True, batch_size=32)\n",
    "test_ds = tfds.load('mnist', split='test', shuffle_files=True, as_supervised=True, batch_size=32)\n",
    "\n",
    "train_ds = make_tf_data(train_ds)\n",
    "test_ds = make_tf_data(test_ds)"
   ]
  },
  {
   "cell_type": "markdown",
   "id": "b68e79c0",
   "metadata": {},
   "source": [
    "### Train robust model resistant to FGSM attacks"
   ]
  },
  {
   "cell_type": "code",
   "execution_count": 11,
   "id": "953b8a1a",
   "metadata": {},
   "outputs": [],
   "source": [
    "@tf.function\n",
    "def fgsm_attack(model, X, y, epsilon=0.1):\n",
    "    delta = tf.zeros_like(X)\n",
    "    \n",
    "    # use GradientTape to perform autodiff\n",
    "    with tf.GradientTape() as tape:\n",
    "        # specifically 'watch' delta\n",
    "        # see here: https://www.tensorflow.org/guide/autodiff\n",
    "        tape.watch(delta)\n",
    "        loss = tf.keras.losses.SparseCategoricalCrossentropy()(y, model(X + delta))\n",
    "    delta = tf.sign(tape.gradient(loss, delta)) * epsilon\n",
    "    return delta"
   ]
  },
  {
   "cell_type": "code",
   "execution_count": 12,
   "id": "34190931",
   "metadata": {},
   "outputs": [],
   "source": [
    "@tf.function\n",
    "def onestep_pgd_linf(model, X, y, epsilon, alpha, delta):\n",
    "    with tf.GradientTape() as tape:\n",
    "        tape.watch(delta)\n",
    "        loss = tf.keras.losses.SparseCategoricalCrossentropy()(y, model(X + delta))\n",
    "\n",
    "    delta = tf.clip_by_value(delta + alpha*tf.sign(tape.gradient(loss, delta)), -epsilon, epsilon)\n",
    "    \n",
    "    return delta\n",
    "\n",
    "def pgd_linf(model, X, y, epsilon, alpha, num_iter):\n",
    "    \"\"\" Construct FGSM adversarial examples on the examples X\"\"\"\n",
    "    delta = tf.zeros_like(X)\n",
    "    for t in range(num_iter):\n",
    "        delta = onestep_pgd_linf(model, X, y, epsilon, alpha, delta)\n",
    "    return delta"
   ]
  },
  {
   "cell_type": "code",
   "execution_count": 13,
   "id": "500e900e",
   "metadata": {},
   "outputs": [],
   "source": [
    "def norm(Z):\n",
    "    \"\"\"Compute norms over all but the first dimension\"\"\"\n",
    "    return tf.norm(Z[0,:,:,:])\n",
    "\n",
    "# PGD L2 for Robustifying #\n",
    "def single_pgd_step_robust(model, X, y, alpha, delta):\n",
    "    with tf.GradientTape() as tape:\n",
    "        tape.watch(delta)\n",
    "        loss = tf.keras.losses.MeanSquaredError()(y, model(X + delta)) # comparing to robust model representation layer\n",
    "        print(loss.as_numpy_iterator()[0])\n",
    "        \n",
    "    grad = tape.gradient(loss, delta)\n",
    "    delta -= alpha*grad / norm(grad) # normalized gradient step\n",
    "    delta = tf.math.minimum(tf.math.maximum(delta, -X), 1-X) # clip X+delta to [0,1]\n",
    "    \n",
    "    return delta, loss\n",
    "\n",
    "@tf.function\n",
    "def pgd_l2_robust(model, X, y, alpha, num_iter, bounded=False, epsilon=0, example=False):\n",
    "    delta = tf.zeros_like(X)\n",
    "    loss = 0\n",
    "    for t in range(num_iter):\n",
    "        delta, loss = single_pgd_step_robust(model, X, y, alpha, delta)\n",
    "        if bounded:\n",
    "            delta *= epsilon / tf.clip_by_value(norm(delta), epsilon, np.inf)\n",
    "            # No epsilon bound here\n",
    "    #         delta.data *= epsilon / norms(delta.detach()).clamp(min=epsilon) \n",
    "            # I think tensorflow does this automatically\n",
    "#             delta.grad.zero_()\n",
    "\n",
    "    if example:\n",
    "        print(f'{num_iter} iterations, final MSE {loss}')\n",
    "    return delta\n",
    "\n",
    "# PGD L2 for Adversarial Examples #\n",
    "def single_pgd_step_adv(model, X, y, alpha, epsilon, delta):\n",
    "    with tf.GradientTape() as tape:\n",
    "        tape.watch(delta)\n",
    "        loss = tf.keras.losses.SparseCategoricalCrossentropy()(y, model(X + delta)) # comparing to label for original data point\n",
    "\n",
    "    grad = tape.gradient(loss, delta)\n",
    "    delta -= alpha*grad / norm(grad) # normalized gradient step\n",
    "    delta = tf.math.minimum(tf.math.maximum(delta, -X), 1-X) # clip X+delta to [0,1]\n",
    "    delta *= epsilon / tf.clip_by_value(norm(delta), epsilon, np.inf)\n",
    "    \n",
    "    return delta, loss\n",
    "\n",
    "@tf.function\n",
    "def pgd_l2_adv(model, X, y, alpha, num_iter, epsilon=0, example=False):\n",
    "    delta = tf.zeros_like(X)\n",
    "    loss = 0\n",
    "    for t in range(num_iter):\n",
    "        delta, loss = single_pgd_step_adv(model, X, y, alpha, epsilon, delta)\n",
    "        \n",
    "    if example:\n",
    "        print(f'{num_iter} iterations, final MSE {loss}')\n",
    "    return delta"
   ]
  },
  {
   "cell_type": "code",
   "execution_count": 18,
   "id": "b277046c",
   "metadata": {},
   "outputs": [
    {
     "name": "stderr",
     "output_type": "stream",
     "text": [
      "2021-12-01 13:06:40.079718: W tensorflow/core/kernels/data/cache_dataset_ops.cc:798] The calling iterator did not fully read the dataset being cached. In order to avoid unexpected truncation of the dataset, the partially cached contents of the dataset will be discarded. This can happen if you have an input pipeline similar to `dataset.cache().take(k).repeat()`. You should use `dataset.take(k).cache().repeat()` instead.\n"
     ]
    },
    {
     "data": {
      "text/plain": [
       "<matplotlib.image.AxesImage at 0x7f84598cce10>"
      ]
     },
     "execution_count": 18,
     "metadata": {},
     "output_type": "execute_result"
    },
    {
     "data": {
      "image/png": "[encoded data removed]",
      "text/plain": [
       "<Figure size 432x288 with 2 Axes>"
      ]
     },
     "metadata": {
      "needs_background": "light"
     },
     "output_type": "display_data"
    }
   ],
   "source": [
    "test_model = build_cnn_model(1, 32)\n",
    "for b in train_ds.unbatch():\n",
    "    X, y = b\n",
    "    X = tf.expand_dims(X, 0)\n",
    "    delta = fgsm_attack(test_model, X, y, 0.02)\n",
    "    Xd = X + delta\n",
    "    break\n",
    "fig, axs = plt.subplots(2)\n",
    "axs[0].imshow(np.squeeze(X))\n",
    "axs[1].imshow(np.squeeze(Xd))"
   ]
  },
  {
   "cell_type": "code",
   "execution_count": 28,
   "id": "71ac873b",
   "metadata": {},
   "outputs": [
    {
     "data": {
      "text/plain": [
       "<matplotlib.image.AxesImage at 0x7f845c3c1ad0>"
      ]
     },
     "execution_count": 28,
     "metadata": {},
     "output_type": "execute_result"
    },
    {
     "data": {
      "image/png": "[encoded data removed]",
      "text/plain": [
       "<Figure size 432x288 with 2 Axes>"
      ]
     },
     "metadata": {
      "needs_background": "light"
     },
     "output_type": "display_data"
    }
   ],
   "source": [
    "test_model = build_cnn_model(1, 32)\n",
    "for b in train_ds.unbatch():\n",
    "    X, y = b\n",
    "    X = tf.expand_dims(X, 0)\n",
    "    delta = pgd_l2_adv(test_model, X, y, epsilon=0.5, alpha=0.1, num_iter=1000)\n",
    "#     delta = pgd_linf(test_model, X, y, epsilon=0.1, alpha=1e-2, num_iter=50)\n",
    "\n",
    "    Xd = X + delta\n",
    "    break\n",
    "fig, axs = plt.subplots(2)\n",
    "axs[0].imshow(np.squeeze(X))\n",
    "axs[1].imshow(np.squeeze(Xd))"
   ]
  },
  {
   "cell_type": "markdown",
   "id": "92d06351",
   "metadata": {},
   "source": [
    "## Standard training with adversary in test"
   ]
  },
  {
   "cell_type": "code",
   "execution_count": 27,
   "id": "5a013ac3",
   "metadata": {},
   "outputs": [
    {
     "name": "stdout",
     "output_type": "stream",
     "text": [
      "Epoch 0/5, Time: 160.86 -- Train Loss: 0.30, Train Acc: 0.92, Test Loss: 0.07, Test Acc: 0.99\n",
      "Epoch 1/5, Time: 118.27 -- Train Loss: 0.11, Train Acc: 0.97, Test Loss: 0.06, Test Acc: 0.99\n",
      "Epoch 2/5, Time: 116.40 -- Train Loss: 0.08, Train Acc: 0.98, Test Loss: 0.09, Test Acc: 0.99\n",
      "Epoch 3/5, Time: 108.44 -- Train Loss: 0.06, Train Acc: 0.98, Test Loss: 0.06, Test Acc: 0.99\n",
      "Epoch 4/5, Time: 105.22 -- Train Loss: 0.05, Train Acc: 0.99, Test Loss: 0.11, Test Acc: 0.99\n"
     ]
    }
   ],
   "source": [
    "EPOCHS = 5\n",
    "\n",
    "# Build model again, leaving out summary\n",
    "model = build_cnn_model(1, 32)\n",
    "\n",
    "model.compile(\n",
    "    optimizer = tf.keras.optimizers.Adam(),\n",
    "    loss = tf.keras.losses.SparseCategoricalCrossentropy(),\n",
    "    metrics = ['accuracy']\n",
    ")\n",
    "\n",
    "for n in range(EPOCHS):\n",
    "    \n",
    "    t = time.time()\n",
    "    train_losses = []\n",
    "    train_accs = []\n",
    "    for b in train_ds:\n",
    "        X, y = b\n",
    "\n",
    "        l, acc = model.train_on_batch(X, y)\n",
    "        train_losses.append(l)\n",
    "        train_accs.append(acc)\n",
    "\n",
    "    test_losses = []\n",
    "    test_accs = []\n",
    "    for vb in test_ds:\n",
    "        Xtest, ytest = vb\n",
    "        \n",
    "        # Apply attack to get delta\n",
    "        # Importantly, only attack at test time rather than during training\n",
    "#         delta = fgsm_attack(model, Xtest, ytest)\n",
    "#         delta = pgd_linf(model, Xtest, ytest, epsilon=0.1, alpha=1e-1, num_iter=40)\n",
    "        delta = pgd_l2_adv(model, Xtest, ytest, epsilon=0.5, alpha=0.1, num_iter=500)\n",
    "        Xdtest = Xtest + delta\n",
    "        \n",
    "        l, acc = model.test_on_batch(Xdtest, ytest)\n",
    "        test_losses.append(l)\n",
    "        test_accs.append(acc)\n",
    "    \n",
    "    train_loss = sum(train_losses) / len(train_losses)\n",
    "    train_acc = sum(train_accs) / len(train_accs)\n",
    "    \n",
    "    test_loss = sum(test_losses) / len(test_losses)\n",
    "    test_acc = sum(test_accs) / len(test_accs)\n",
    "        \n",
    "    print(f\"Epoch {n}/{EPOCHS}, Time: {(time.time()-t):0.2f} -- Train Loss: {train_loss:0.2f}, \\\n",
    "Train Acc: {train_acc:0.2f}, Test Loss: {test_loss:0.2f}, Test Acc: {test_acc:0.2f}\")"
   ]
  },
  {
   "cell_type": "markdown",
   "id": "600c5aae",
   "metadata": {},
   "source": [
    "## Train Robust Model (adversaries in training)"
   ]
  },
  {
   "cell_type": "code",
   "execution_count": 18,
   "id": "7f4071b0",
   "metadata": {},
   "outputs": [
    {
     "name": "stdout",
     "output_type": "stream",
     "text": [
      "Epoch 0/5, Time: 83.58 -- Train Loss: 0.06, Train Acc: 0.99, Test Loss: 0.36, Test Acc: 0.89\n",
      "Epoch 1/5, Time: 68.66 -- Train Loss: 0.00, Train Acc: 1.00, Test Loss: 0.48, Test Acc: 0.85\n",
      "Epoch 2/5, Time: 68.04 -- Train Loss: 0.00, Train Acc: 1.00, Test Loss: 0.36, Test Acc: 0.89\n",
      "Epoch 3/5, Time: 64.31 -- Train Loss: 0.00, Train Acc: 1.00, Test Loss: 0.91, Test Acc: 0.74\n",
      "Epoch 4/5, Time: 64.35 -- Train Loss: 0.00, Train Acc: 1.00, Test Loss: 0.42, Test Acc: 0.87\n"
     ]
    }
   ],
   "source": [
    "EPOCHS = 5\n",
    "\n",
    "# Build model again, leaving out summary\n",
    "robust_model = build_cnn_model(1, 32)\n",
    "\n",
    "robust_model.compile(\n",
    "    optimizer = tf.keras.optimizers.Adam(),\n",
    "    loss = tf.keras.losses.SparseCategoricalCrossentropy(),\n",
    "    metrics = ['accuracy']\n",
    ")\n",
    "\n",
    "for n in range(EPOCHS):\n",
    "    t = time.time()\n",
    "    train_losses = []\n",
    "    train_accs = []\n",
    "    for b in train_ds:\n",
    "        X, y = b\n",
    "        \n",
    "        # Apply attack during training as well as testing\n",
    "#         delta = fgsm_attack(robust_model, X, y, 0.02)\n",
    "        delta = pgd_l2_adv(robust_model, X, y, epsilon=0.5, alpha=1e-1, num_iter=50)\n",
    "#         delta = pgd_linf(robust_model, X, y, epsilon=0.1, alpha=1e-1, num_iter=40)\n",
    "        Xd = X + delta\n",
    "\n",
    "        l, acc = robust_model.train_on_batch(Xd, y)\n",
    "        train_losses.append(l)\n",
    "        train_accs.append(acc)\n",
    "\n",
    "    test_losses = []\n",
    "    test_accs = []\n",
    "    for vb in test_ds:\n",
    "        Xtest, ytest = vb\n",
    "        \n",
    "        # Apply attack to get delta\n",
    "        # Importantly, only attack at test time rather than during training\n",
    "        #delta = fgsm_attack(model, Xtest, ytest)\n",
    "        Xdtest = Xtest #+ delta\n",
    "        \n",
    "        l, acc = robust_model.test_on_batch(Xdtest, ytest)\n",
    "        test_losses.append(l)\n",
    "        test_accs.append(acc)\n",
    "    \n",
    "    train_loss = sum(train_losses) / len(train_losses)\n",
    "    train_acc = sum(train_accs) / len(train_accs)\n",
    "    \n",
    "    test_loss = sum(test_losses) / len(test_losses)\n",
    "    test_acc = sum(test_accs) / len(test_accs)\n",
    "        \n",
    "    print(f\"Epoch {n}/{EPOCHS}, Time: {(time.time()-t):0.2f} -- Train Loss: {train_loss:0.2f}, \\\n",
    "Train Acc: {train_acc:0.2f}, Test Loss: {test_loss:0.2f}, Test Acc: {test_acc:0.2f}\")"
   ]
  },
  {
   "cell_type": "markdown",
   "id": "e35b2c7b",
   "metadata": {},
   "source": [
    "## Generate robust version of original data"
   ]
  },
  {
   "cell_type": "markdown",
   "id": "6ff02734",
   "metadata": {},
   "source": [
    "Use robust NN to create a robustifier"
   ]
  },
  {
   "cell_type": "code",
   "execution_count": 32,
   "id": "4ec23269",
   "metadata": {},
   "outputs": [],
   "source": [
    "# Grab representation layer from robust model\n",
    "representation = robust_model.layers[-2]\n",
    "robustifier = tf.keras.Model(inputs = robust_model.input, outputs = representation.output)"
   ]
  },
  {
   "cell_type": "code",
   "execution_count": 33,
   "id": "ddff9dad",
   "metadata": {},
   "outputs": [],
   "source": [
    "unbatched_train = train_ds.unbatch()"
   ]
  },
  {
   "cell_type": "code",
   "execution_count": 32,
   "id": "6f48232e",
   "metadata": {},
   "outputs": [],
   "source": [
    "last_img = list(unbatched_train.as_numpy_iterator())[-1][0]"
   ]
  },
  {
   "cell_type": "code",
   "execution_count": 34,
   "id": "50690ade",
   "metadata": {
    "scrolled": true
   },
   "outputs": [
    {
     "name": "stdout",
     "output_type": "stream",
     "text": [
      "Robustified 0 images in 0.057 seconds\n",
      "Robustified 1000 images in 9.212 seconds\n",
      "Robustified 2000 images in 9.359 seconds\n",
      "Robustified 3000 images in 10.028 seconds\n",
      "Robustified 4000 images in 9.504 seconds\n",
      "Robustified 5000 images in 9.174 seconds\n",
      "Robustified 6000 images in 10.705 seconds\n",
      "Robustified 7000 images in 11.300 seconds\n",
      "Robustified 8000 images in 10.568 seconds\n",
      "Robustified 9000 images in 9.888 seconds\n",
      "Robustified 10000 images in 10.441 seconds\n",
      "Robustified 11000 images in 10.269 seconds\n",
      "Robustified 12000 images in 11.034 seconds\n",
      "Robustified 13000 images in 9.824 seconds\n",
      "Robustified 14000 images in 10.287 seconds\n",
      "Robustified 15000 images in 9.551 seconds\n",
      "Robustified 16000 images in 9.054 seconds\n",
      "Robustified 17000 images in 9.037 seconds\n",
      "Robustified 18000 images in 9.870 seconds\n",
      "Robustified 19000 images in 11.464 seconds\n",
      "Robustified 20000 images in 9.718 seconds\n",
      "Robustified 21000 images in 9.795 seconds\n",
      "Robustified 22000 images in 9.360 seconds\n",
      "Robustified 23000 images in 9.127 seconds\n",
      "Robustified 24000 images in 8.962 seconds\n",
      "Robustified 25000 images in 9.723 seconds\n",
      "Robustified 26000 images in 9.410 seconds\n",
      "Robustified 27000 images in 9.377 seconds\n",
      "Robustified 28000 images in 9.984 seconds\n",
      "Robustified 29000 images in 10.340 seconds\n",
      "Robustified 30000 images in 9.773 seconds\n",
      "Robustified 31000 images in 9.909 seconds\n",
      "Robustified 32000 images in 10.287 seconds\n",
      "Robustified 33000 images in 9.304 seconds\n",
      "Robustified 34000 images in 12.195 seconds\n",
      "Robustified 35000 images in 11.102 seconds\n",
      "Robustified 36000 images in 11.439 seconds\n",
      "Robustified 37000 images in 8.659 seconds\n",
      "Robustified 38000 images in 8.990 seconds\n",
      "Robustified 39000 images in 10.652 seconds\n",
      "Robustified 40000 images in 9.969 seconds\n",
      "Robustified 41000 images in 8.974 seconds\n",
      "Robustified 42000 images in 9.060 seconds\n",
      "Robustified 43000 images in 9.199 seconds\n",
      "Robustified 44000 images in 10.461 seconds\n",
      "Robustified 45000 images in 9.294 seconds\n",
      "Robustified 46000 images in 8.758 seconds\n",
      "Robustified 47000 images in 8.813 seconds\n",
      "Robustified 48000 images in 8.731 seconds\n",
      "Robustified 49000 images in 8.795 seconds\n",
      "Robustified 50000 images in 8.759 seconds\n",
      "Robustified 51000 images in 8.761 seconds\n",
      "Robustified 52000 images in 8.713 seconds\n",
      "Robustified 53000 images in 8.861 seconds\n",
      "Robustified 54000 images in 8.794 seconds\n",
      "Robustified 55000 images in 8.761 seconds\n",
      "Robustified 56000 images in 8.950 seconds\n",
      "Robustified 57000 images in 8.801 seconds\n",
      "Robustified 58000 images in 8.667 seconds\n",
      "Robustified 59000 images in 9.935 seconds\n"
     ]
    }
   ],
   "source": [
    "robust_train = []\n",
    "orig_labels = []\n",
    "iters = 100\n",
    "example = False\n",
    "# initialize random image as last image in dataset\n",
    "rand_img = last_img\n",
    "rand_img = tf.expand_dims(rand_img, axis=0)\n",
    "\n",
    "start_time = time.time()\n",
    "for i, (img, label) in enumerate(unbatched_train):\n",
    "    # data point we want to get robust features for\n",
    "    curr_img = tf.expand_dims(img, axis=0)\n",
    "    goal_representation = robustifier(curr_img)\n",
    "    \n",
    "    \n",
    "    learned_delta = pgd_l2_robust(robustifier, rand_img, goal_representation, alpha=0.1, num_iter=iters)\n",
    "    robust_update = (rand_img + learned_delta)[0,:,:,:] # trim off first dim\n",
    "    robust_train.append(robust_update)\n",
    "    orig_labels.append(label)\n",
    "    \n",
    "    if i%1000 == 0:\n",
    "        elapsed = time.time() - start_time\n",
    "        print(f'Robustified {i} images in {elapsed:0.3f} seconds')\n",
    "        start_time = time.time()\n",
    "    \n",
    "    # reset random image to be previous image\n",
    "    rand_img = curr_img.numpy()"
   ]
  },
  {
   "cell_type": "markdown",
   "id": "90ee4b3b",
   "metadata": {},
   "source": [
    "### Aside to see adversarial examples"
   ]
  },
  {
   "cell_type": "code",
   "execution_count": null,
   "id": "d70e42a3",
   "metadata": {},
   "outputs": [],
   "source": [
    "example = True\n",
    "for img, label in unbatched_train:\n",
    "    # data point we want to get robust features for\n",
    "    curr_img = tf.expand_dims(img, axis=0)\n",
    "    goal_representation = robustifier(curr_img)\n",
    "    \n",
    "    # starting point for PGD is another point in the dataset\n",
    "    rand_img = next(unbatched_train.shuffle(int(1e6)).take(1).as_numpy_iterator())[0]\n",
    "    rand_img = tf.expand_dims(rand_img, axis=0)\n",
    "    \n",
    "    fig, starts = plt.subplots(1,2,figsize=(5,5))\n",
    "    starts = starts.flatten()\n",
    "    starts[0].imshow(rand_img[0,:,:,:].numpy())\n",
    "    starts[0].set_title('Random Initialization')\n",
    "    starts[1].imshow(curr_img[0,:,:,:])\n",
    "    starts[1].set_title('Target Image')\n",
    "    \n",
    "    fig, axs = plt.subplots(5, 2, figsize=(20,20))\n",
    "    for i, iters in enumerate([1,2,50,100,1000]):\n",
    "        learned_delta = pgd_l2_robust(robustifier, rand_img, goal_representation, alpha=0.1, num_iter=iters, example=True)\n",
    "        robust_update = (rand_img + learned_delta)[0,:,:,:] # trim off first dim\n",
    "    \n",
    "        axs[i][0].imshow(robust_update)\n",
    "        axs[i][0].set_title(f'Updated Image (iters={iters})')\n",
    "        axs[i][1].imshow(learned_delta[0,:,:,:])\n",
    "        axs[i][1].set_title(f'Delta (iters={iters})')\n",
    "        \n",
    "    break"
   ]
  },
  {
   "cell_type": "markdown",
   "id": "5f133883",
   "metadata": {},
   "source": [
    "## Try training on robust data set and testing with adversarial examples"
   ]
  },
  {
   "cell_type": "code",
   "execution_count": 37,
   "id": "f076f339",
   "metadata": {},
   "outputs": [
    {
     "data": {
      "text/plain": [
       "2"
      ]
     },
     "execution_count": 37,
     "metadata": {},
     "output_type": "execute_result"
    }
   ],
   "source": [
    "orig_labels[-10].numpy()"
   ]
  },
  {
   "cell_type": "code",
   "execution_count": 38,
   "id": "d5dd07a9",
   "metadata": {},
   "outputs": [
    {
     "data": {
      "text/plain": [
       "<matplotlib.image.AxesImage at 0x7fc899848f10>"
      ]
     },
     "execution_count": 38,
     "metadata": {},
     "output_type": "execute_result"
    },
    {
     "data": {
      "image/png": "[encoded data removed]",
      "text/plain": [
       "<Figure size 432x288 with 1 Axes>"
      ]
     },
     "metadata": {
      "needs_background": "light"
     },
     "output_type": "display_data"
    }
   ],
   "source": [
    "plt.imshow(robust_train[-10].numpy())"
   ]
  },
  {
   "cell_type": "code",
   "execution_count": 39,
   "id": "2568d597",
   "metadata": {},
   "outputs": [],
   "source": [
    "robust_ds = tf.data.Dataset.from_tensor_slices((robust_train, orig_labels)).batch(32)"
   ]
  },
  {
   "cell_type": "code",
   "execution_count": 42,
   "id": "40d723f8",
   "metadata": {},
   "outputs": [
    {
     "name": "stdout",
     "output_type": "stream",
     "text": [
      "Epoch 0/5, Time: 22.51 -- Train Loss: 1.01, Train Acc: 0.67, Test Loss: 0.36, Test Acc: 0.96\n",
      "Epoch 1/5, Time: 19.24 -- Train Loss: 0.63, Train Acc: 0.81, Test Loss: 0.19, Test Acc: 0.99\n",
      "Epoch 2/5, Time: 18.97 -- Train Loss: 0.53, Train Acc: 0.84, Test Loss: 0.12, Test Acc: 1.00\n",
      "Epoch 3/5, Time: 18.89 -- Train Loss: 0.49, Train Acc: 0.85, Test Loss: 0.09, Test Acc: 1.00\n",
      "Epoch 4/5, Time: 19.78 -- Train Loss: 0.46, Train Acc: 0.86, Test Loss: 0.07, Test Acc: 1.00\n"
     ]
    }
   ],
   "source": [
    "EPOCHS = 5\n",
    "\n",
    "# Build model again, leaving out summary\n",
    "model = build_cnn_model(1, 32)\n",
    "\n",
    "model.compile(\n",
    "    optimizer = tf.keras.optimizers.Adam(),\n",
    "    loss = tf.keras.losses.SparseCategoricalCrossentropy(),\n",
    "    metrics = ['accuracy']\n",
    ")\n",
    "\n",
    "for n in range(EPOCHS):\n",
    "    \n",
    "    t = time.time()\n",
    "    train_losses = []\n",
    "    train_accs = []\n",
    "    for b in robust_ds:\n",
    "        X, y = b\n",
    "\n",
    "        l, acc = model.train_on_batch(X, y)\n",
    "        train_losses.append(l)\n",
    "        train_accs.append(acc)\n",
    "\n",
    "    test_losses = []\n",
    "    test_accs = []\n",
    "    for vb in test_ds:\n",
    "        Xtest, ytest = vb\n",
    "        \n",
    "        # Apply attack to get delta\n",
    "        # Importantly, only attack at test time rather than during training\n",
    "#         delta = fgsm_attack(model, Xtest, ytest)\n",
    "        delta = pgd_l2_adv(model, Xtest, ytest, bounded=True, epsilon=0.1, alpha=1e-2, num_iter=40)\n",
    "        Xdtest = Xtest + delta\n",
    "        \n",
    "        l, acc = model.test_on_batch(Xdtest, ytest)\n",
    "        test_losses.append(l)\n",
    "        test_accs.append(acc)\n",
    "    \n",
    "    train_loss = sum(train_losses) / len(train_losses)\n",
    "    train_acc = sum(train_accs) / len(train_accs)\n",
    "    \n",
    "    test_loss = sum(test_losses) / len(test_losses)\n",
    "    test_acc = sum(test_accs) / len(test_accs)\n",
    "        \n",
    "    print(f\"Epoch {n}/{EPOCHS}, Time: {(time.time()-t):0.2f} -- Train Loss: {train_loss:0.2f}, \\\n",
    "Train Acc: {train_acc:0.2f}, Test Loss: {test_loss:0.2f}, Test Acc: {test_acc:0.2f}\")"
   ]
  }
 ],
 "metadata": {
  "kernelspec": {
   "display_name": "Python 3 (ipykernel)",
   "language": "python",
   "name": "python3"
  },
  "language_info": {
   "codemirror_mode": {
    "name": "ipython",
    "version": 3
   },
   "file_extension": ".py",
   "mimetype": "text/x-python",
   "name": "python",
   "nbconvert_exporter": "python",
   "pygments_lexer": "ipython3",
   "version": "3.7.7"
  }
 },
 "nbformat": 4,
 "nbformat_minor": 5
}
