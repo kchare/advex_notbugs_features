{
 "cells": [
  {
   "cell_type": "markdown",
   "id": "730cd502",
   "metadata": {},
   "source": [
    "### References\n",
    "\n",
    "- https://adversarial-ml-tutorial.org/adversarial_examples/\n",
    "- https://arxiv.org/pdf/1905.02175.pdf"
   ]
  },
  {
   "cell_type": "code",
   "execution_count": 1,
   "id": "e7ad2cd0",
   "metadata": {},
   "outputs": [],
   "source": [
    "import tensorflow as tf\n",
    "from tensorflow import keras as K\n",
    "import tensorflow_datasets as tfds\n",
    "\n",
    "import numpy as np\n",
    "import scipy.stats as sp\n",
    "import matplotlib.pyplot as plt\n",
    "import pandas as pd\n",
    "import time"
   ]
  },
  {
   "cell_type": "code",
   "execution_count": 2,
   "id": "12a307b0",
   "metadata": {},
   "outputs": [],
   "source": [
    "def normalize(img, label):\n",
    "    return img / 255, label\n",
    "\n",
    "def make_tf_data(raw_ds):\n",
    "    ds = raw_ds.map(normalize)\n",
    "    return ds"
   ]
  },
  {
   "cell_type": "code",
   "execution_count": 3,
   "id": "97201c36",
   "metadata": {},
   "outputs": [],
   "source": [
    "def build_cnn_model(n_layers, n_filters, kernel_size=3, n_classes=10, model_name='basic_cnn'):\n",
    "    \"\"\"Builds basic CNN model for adversarial training; will need to be refactored\n",
    "    non-using default train setup\"\"\"\n",
    "    input_layer = tf.keras.layers.Input(shape=(28,28,1))\n",
    "    \n",
    "    # Add basic convolutional_layer\n",
    "    hidden = tf.keras.layers.Conv2D(n_filters, kernel_size=3, strides=2, activation = 'relu')(input_layer)\n",
    "    # Add single dense, non-linear layer\n",
    "    hidden = tf.keras.layers.Flatten()(hidden)\n",
    "    hidden = tf.keras.layers.Dense(16, activation = 'relu')(hidden)\n",
    "    output = tf.keras.layers.Dense(n_classes, activation='softmax')(hidden) # softmax since multiclass class. problem\n",
    "    \n",
    "    model = tf.keras.Model(inputs=input_layer, outputs=output)\n",
    "    return model"
   ]
  },
  {
   "cell_type": "code",
   "execution_count": 4,
   "id": "4c481223",
   "metadata": {},
   "outputs": [
    {
     "name": "stderr",
     "output_type": "stream",
     "text": [
      "2021-11-30 19:21:30.796916: I tensorflow/core/platform/cpu_feature_guard.cc:142] This TensorFlow binary is optimized with oneAPI Deep Neural Network Library (oneDNN)to use the following CPU instructions in performance-critical operations:  AVX2 FMA\n",
      "To enable them in other operations, rebuild TensorFlow with the appropriate compiler flags.\n",
      "2021-11-30 19:21:30.839251: I tensorflow/compiler/xla/service/service.cc:168] XLA service 0x7fc8f62c7240 initialized for platform Host (this does not guarantee that XLA will be used). Devices:\n",
      "2021-11-30 19:21:30.839270: I tensorflow/compiler/xla/service/service.cc:176]   StreamExecutor device (0): Host, Default Version\n"
     ]
    }
   ],
   "source": [
    "train_ds = tfds.load('mnist', split='train', shuffle_files=True, as_supervised=True, batch_size=32)\n",
    "test_ds = tfds.load('mnist', split='test', shuffle_files=True, as_supervised=True, batch_size=32)\n",
    "\n",
    "train_ds = make_tf_data(train_ds)\n",
    "test_ds = make_tf_data(test_ds)"
   ]
  },
  {
   "cell_type": "markdown",
   "id": "b68e79c0",
   "metadata": {},
   "source": [
    "### Train robust model resistant to FGSM attacks"
   ]
  },
  {
   "cell_type": "code",
   "execution_count": 5,
   "id": "953b8a1a",
   "metadata": {},
   "outputs": [],
   "source": [
    "@tf.function\n",
    "def fgsm_attack(model, X, y, epsilon=0.1):\n",
    "    delta = tf.zeros_like(X)\n",
    "    \n",
    "    # use GradientTape to perform autodiff\n",
    "    with tf.GradientTape() as tape:\n",
    "        # specifically 'watch' delta\n",
    "        # see here: https://www.tensorflow.org/guide/autodiff\n",
    "        tape.watch(delta)\n",
    "        loss = tf.keras.losses.SparseCategoricalCrossentropy()(y, model(X + delta))\n",
    "    delta = tf.sign(tape.gradient(loss, delta)) * epsilon\n",
    "    return delta"
   ]
  },
  {
   "cell_type": "code",
   "execution_count": 6,
   "id": "34190931",
   "metadata": {},
   "outputs": [],
   "source": [
    "@tf.function\n",
    "def onestep_pgd_linf(model, X, y, epsilon, alpha, delta):\n",
    "    with tf.GradientTape() as tape:\n",
    "        tape.watch(delta)\n",
    "        loss = tf.keras.losses.SparseCategoricalCrossentropy()(y, model(X + delta))\n",
    "\n",
    "    delta = tf.clip_by_value(delta + alpha*tf.sign(tape.gradient(loss, delta)), -epsilon, epsilon)\n",
    "    \n",
    "    return delta\n",
    "\n",
    "def pgd_linf(model, X, y, epsilon, alpha, num_iter):\n",
    "    \"\"\" Construct FGSM adversarial examples on the examples X\"\"\"\n",
    "    delta = tf.zeros_like(X)\n",
    "    for t in range(num_iter):\n",
    "        delta = onestep_pgd_linf(model, X, y, epsilon, alpha, delta)\n",
    "    return delta"
   ]
  },
  {
   "cell_type": "code",
   "execution_count": 63,
   "id": "500e900e",
   "metadata": {},
   "outputs": [],
   "source": [
    "def norm(Z):\n",
    "    \"\"\"Compute norms over all but the first dimension\"\"\"\n",
    "    return tf.norm(Z[0,:,:,:])\n",
    "\n",
    "# PGD L2 for Robustifying #\n",
    "\n",
    "@tf.function\n",
    "def single_pgd_step_robust(model, X, y, alpha, delta):\n",
    "    with tf.GradientTape() as tape:\n",
    "        tape.watch(delta)\n",
    "        loss = tf.keras.losses.MeanSquaredError()(y, model(X + delta)) # comparing to robust model representation layer\n",
    "\n",
    "    grad = tape.gradient(loss, delta)\n",
    "    delta -= alpha*grad / norm(grad) # normalized gradient step\n",
    "    delta = tf.math.minimum(tf.math.maximum(delta, -X), 1-X) # clip X+delta to [0,1]\n",
    "    \n",
    "    return delta, loss\n",
    "\n",
    "@tf.function\n",
    "def pgd_l2_robust(model, X, y, alpha, num_iter, bounded=False, epsilon=0, example=False):\n",
    "    delta = tf.zeros_like(X)\n",
    "    loss = 0\n",
    "    for t in range(num_iter):\n",
    "        delta, loss = single_pgd_step_robust(model, X, y, alpha, delta)\n",
    "        if bounded:\n",
    "            delta *= epsilon / tf.clip_by_value(norm(delta), epsilon, np.inf)\n",
    "            # No epsilon bound here\n",
    "    #         delta.data *= epsilon / norms(delta.detach()).clamp(min=epsilon) \n",
    "            # I think tensorflow does this automatically\n",
    "#             delta.grad.zero_()\n",
    "\n",
    "    if example:\n",
    "        print(f'{num_iter} iterations, final MSE {loss}')\n",
    "    return delta\n",
    "\n",
    "# PGD L2 for Adversarial Examples #\n",
    "@tf.function\n",
    "def single_pgd_step_adv(model, X, y, alpha, delta):\n",
    "    with tf.GradientTape() as tape:\n",
    "        tape.watch(delta)\n",
    "        loss = tf.keras.losses.SparseCategoricalCrossentropy()(y, model(X + delta)) # comparing to label for original data point\n",
    "\n",
    "    grad = tape.gradient(loss, delta)\n",
    "    delta -= alpha*grad / norm(grad) # normalized gradient step\n",
    "    delta = tf.math.minimum(tf.math.maximum(delta, -X), 1-X) # clip X+delta to [0,1]\n",
    "    \n",
    "    return delta, loss\n",
    "\n",
    "@tf.function\n",
    "def pgd_l2_adv(model, X, y, alpha, num_iter, epsilon=0, example=False):\n",
    "    delta = tf.zeros_like(X)\n",
    "    loss = 0\n",
    "    for t in range(num_iter):\n",
    "        delta, loss = single_pgd_step_adv(model, X, y, alpha, delta)\n",
    "#         delta *= epsilon / tf.clip_by_value(norm(delta), epsilon, np.inf)\n",
    "\n",
    "    if example:\n",
    "        print(f'{num_iter} iterations, final MSE {loss}')\n",
    "    return delta"
   ]
  },
  {
   "cell_type": "code",
   "execution_count": 8,
   "id": "b277046c",
   "metadata": {},
   "outputs": [
    {
     "name": "stderr",
     "output_type": "stream",
     "text": [
      "2021-11-30 19:21:37.426271: W tensorflow/core/kernels/data/cache_dataset_ops.cc:798] The calling iterator did not fully read the dataset being cached. In order to avoid unexpected truncation of the dataset, the partially cached contents of the dataset will be discarded. This can happen if you have an input pipeline similar to `dataset.cache().take(k).repeat()`. You should use `dataset.take(k).cache().repeat()` instead.\n"
     ]
    },
    {
     "data": {
      "text/plain": [
       "<matplotlib.image.AxesImage at 0x7fc8f8738a10>"
      ]
     },
     "execution_count": 8,
     "metadata": {},
     "output_type": "execute_result"
    },
    {
     "data": {
      "image/png": "[encoded data removed]",
      "text/plain": [
       "<Figure size 432x288 with 2 Axes>"
      ]
     },
     "metadata": {
      "needs_background": "light"
     },
     "output_type": "display_data"
    }
   ],
   "source": [
    "test_model = build_cnn_model(1, 32)\n",
    "for b in train_ds.unbatch():\n",
    "    X, y = b\n",
    "    X = tf.expand_dims(X, 0)\n",
    "    delta = fgsm_attack(test_model, X, y, 0.02)\n",
    "    Xd = X + delta\n",
    "    break\n",
    "fig, axs = plt.subplots(2)\n",
    "axs[0].imshow(np.squeeze(X))\n",
    "axs[1].imshow(np.squeeze(Xd))"
   ]
  },
  {
   "cell_type": "code",
   "execution_count": 72,
   "id": "71ac873b",
   "metadata": {},
   "outputs": [
    {
     "data": {
      "text/plain": [
       "<matplotlib.image.AxesImage at 0x7fc8a35793d0>"
      ]
     },
     "execution_count": 72,
     "metadata": {},
     "output_type": "execute_result"
    },
    {
     "data": {
      "image/png": "[encoded data removed]",
      "text/plain": [
       "<Figure size 432x288 with 2 Axes>"
      ]
     },
     "metadata": {
      "needs_background": "light"
     },
     "output_type": "display_data"
    }
   ],
   "source": [
    "test_model = build_cnn_model(1, 32)\n",
    "for b in train_ds.unbatch():\n",
    "    X, y = b\n",
    "    X = tf.expand_dims(X, 0)\n",
    "    delta = pgd_l2_adv(test_model, X, y, epsilon=0.1, alpha=1, num_iter=50)\n",
    "#     delta = pgd_linf(test_model, X, y, epsilon=0.1, alpha=1e-2, num_iter=50)\n",
    "\n",
    "    Xd = X + delta\n",
    "    break\n",
    "fig, axs = plt.subplots(2)\n",
    "axs[0].imshow(np.squeeze(X))\n",
    "axs[1].imshow(np.squeeze(Xd))"
   ]
  },
  {
   "cell_type": "markdown",
   "id": "92d06351",
   "metadata": {},
   "source": [
    "## Standard training with adversary in test"
   ]
  },
  {
   "cell_type": "code",
   "execution_count": 73,
   "id": "5a013ac3",
   "metadata": {},
   "outputs": [
    {
     "name": "stdout",
     "output_type": "stream",
     "text": [
      "Epoch 0/5, Time: 24.90 -- Train Loss: 0.34, Train Acc: 0.90, Test Loss: 3.79, Test Acc: 0.62\n",
      "Epoch 1/5, Time: 25.65 -- Train Loss: 0.13, Train Acc: 0.96, Test Loss: 4.23, Test Acc: 0.64\n",
      "Epoch 2/5, Time: 19.59 -- Train Loss: 0.09, Train Acc: 0.97, Test Loss: 4.12, Test Acc: 0.63\n",
      "Epoch 3/5, Time: 20.53 -- Train Loss: 0.07, Train Acc: 0.98, Test Loss: 3.50, Test Acc: 0.69\n",
      "Epoch 4/5, Time: 20.87 -- Train Loss: 0.06, Train Acc: 0.98, Test Loss: 3.27, Test Acc: 0.74\n"
     ]
    }
   ],
   "source": [
    "EPOCHS = 5\n",
    "\n",
    "# Build model again, leaving out summary\n",
    "model = build_cnn_model(1, 32)\n",
    "\n",
    "model.compile(\n",
    "    optimizer = tf.keras.optimizers.Adam(),\n",
    "    loss = tf.keras.losses.SparseCategoricalCrossentropy(),\n",
    "    metrics = ['accuracy']\n",
    ")\n",
    "\n",
    "for n in range(EPOCHS):\n",
    "    \n",
    "    t = time.time()\n",
    "    train_losses = []\n",
    "    train_accs = []\n",
    "    for b in train_ds:\n",
    "        X, y = b\n",
    "\n",
    "        l, acc = model.train_on_batch(X, y)\n",
    "        train_losses.append(l)\n",
    "        train_accs.append(acc)\n",
    "\n",
    "    test_losses = []\n",
    "    test_accs = []\n",
    "    for vb in test_ds:\n",
    "        Xtest, ytest = vb\n",
    "        \n",
    "        # Apply attack to get delta\n",
    "        # Importantly, only attack at test time rather than during training\n",
    "#         delta = fgsm_attack(model, Xtest, ytest)\n",
    "#         delta = pgd_linf(model, Xtest, ytest, epsilon=0.1, alpha=1e-1, num_iter=40)\n",
    "        delta = pgd_l2_adv(model, Xtest, ytest, epsilon=0.1, alpha=1, num_iter=50)\n",
    "        Xdtest = Xtest + delta\n",
    "        \n",
    "        l, acc = model.test_on_batch(Xdtest, ytest)\n",
    "        test_losses.append(l)\n",
    "        test_accs.append(acc)\n",
    "    \n",
    "    train_loss = sum(train_losses) / len(train_losses)\n",
    "    train_acc = sum(train_accs) / len(train_accs)\n",
    "    \n",
    "    test_loss = sum(test_losses) / len(test_losses)\n",
    "    test_acc = sum(test_accs) / len(test_accs)\n",
    "        \n",
    "    print(f\"Epoch {n}/{EPOCHS}, Time: {(time.time()-t):0.2f} -- Train Loss: {train_loss:0.2f}, \\\n",
    "Train Acc: {train_acc:0.2f}, Test Loss: {test_loss:0.2f}, Test Acc: {test_acc:0.2f}\")"
   ]
  },
  {
   "cell_type": "markdown",
   "id": "600c5aae",
   "metadata": {},
   "source": [
    "## Train Robust Model (adversaries in training)"
   ]
  },
  {
   "cell_type": "code",
   "execution_count": 51,
   "id": "7f4071b0",
   "metadata": {},
   "outputs": [
    {
     "name": "stdout",
     "output_type": "stream",
     "text": [
      "Epoch 0/5, Time: 85.12 -- Train Loss: 2.30, Train Acc: 0.11, Test Loss: 2.30, Test Acc: 0.11\n",
      "Epoch 1/5, Time: 76.77 -- Train Loss: 2.30, Train Acc: 0.11, Test Loss: 2.30, Test Acc: 0.11\n",
      "Epoch 2/5, Time: 74.82 -- Train Loss: 2.30, Train Acc: 0.11, Test Loss: 2.30, Test Acc: 0.11\n",
      "Epoch 3/5, Time: 76.67 -- Train Loss: 2.30, Train Acc: 0.11, Test Loss: 2.30, Test Acc: 0.11\n",
      "Epoch 4/5, Time: 71.28 -- Train Loss: 2.30, Train Acc: 0.11, Test Loss: 2.30, Test Acc: 0.11\n"
     ]
    }
   ],
   "source": [
    "EPOCHS = 5\n",
    "\n",
    "# Build model again, leaving out summary\n",
    "robust_model = build_cnn_model(1, 32)\n",
    "\n",
    "robust_model.compile(\n",
    "    optimizer = tf.keras.optimizers.Adam(),\n",
    "    loss = tf.keras.losses.SparseCategoricalCrossentropy(),\n",
    "    metrics = ['accuracy']\n",
    ")\n",
    "\n",
    "for n in range(EPOCHS):\n",
    "    t = time.time()\n",
    "    train_losses = []\n",
    "    train_accs = []\n",
    "    for b in train_ds:\n",
    "        X, y = b\n",
    "        \n",
    "        # Apply attack during training as well as testing\n",
    "#         delta = fgsm_attack(robust_model, X, y, 0.02)\n",
    "        delta = pgd_l2_adv(robust_model, X, y, bounded=True, epsilon=0.1, alpha=1e-2, num_iter=40)\n",
    "#         delta = pgd_linf(robust_model, X, y, epsilon=0.1, alpha=1e-1, num_iter=40)\n",
    "        Xd = X + delta\n",
    "\n",
    "        l, acc = robust_model.train_on_batch(Xd, y)\n",
    "        train_losses.append(l)\n",
    "        train_accs.append(acc)\n",
    "\n",
    "    test_losses = []\n",
    "    test_accs = []\n",
    "    for vb in test_ds:\n",
    "        Xtest, ytest = vb\n",
    "        \n",
    "        # Apply attack to get delta\n",
    "        # Importantly, only attack at test time rather than during training\n",
    "        #delta = fgsm_attack(model, Xtest, ytest)\n",
    "        Xdtest = Xtest #+ delta\n",
    "        \n",
    "        l, acc = robust_model.test_on_batch(Xdtest, ytest)\n",
    "        test_losses.append(l)\n",
    "        test_accs.append(acc)\n",
    "    \n",
    "    train_loss = sum(train_losses) / len(train_losses)\n",
    "    train_acc = sum(train_accs) / len(train_accs)\n",
    "    \n",
    "    test_loss = sum(test_losses) / len(test_losses)\n",
    "    test_acc = sum(test_accs) / len(test_accs)\n",
    "        \n",
    "    print(f\"Epoch {n}/{EPOCHS}, Time: {(time.time()-t):0.2f} -- Train Loss: {train_loss:0.2f}, \\\n",
    "Train Acc: {train_acc:0.2f}, Test Loss: {test_loss:0.2f}, Test Acc: {test_acc:0.2f}\")"
   ]
  },
  {
   "cell_type": "markdown",
   "id": "e35b2c7b",
   "metadata": {},
   "source": [
    "## Generate robust version of original data"
   ]
  },
  {
   "cell_type": "markdown",
   "id": "6ff02734",
   "metadata": {},
   "source": [
    "Use robust NN to create a robustifier"
   ]
  },
  {
   "cell_type": "code",
   "execution_count": 13,
   "id": "4ec23269",
   "metadata": {},
   "outputs": [],
   "source": [
    "# Grab representation layer from robust model\n",
    "representation = robust_model.layers[-2]\n",
    "robustifier = tf.keras.Model(inputs = robust_model.input, outputs = representation.output)"
   ]
  },
  {
   "cell_type": "code",
   "execution_count": 14,
   "id": "ddff9dad",
   "metadata": {},
   "outputs": [],
   "source": [
    "unbatched_train = train_ds.unbatch()"
   ]
  },
  {
   "cell_type": "code",
   "execution_count": 32,
   "id": "6f48232e",
   "metadata": {},
   "outputs": [],
   "source": [
    "last_img = list(unbatched_train.as_numpy_iterator())[-1][0]"
   ]
  },
  {
   "cell_type": "code",
   "execution_count": 34,
   "id": "50690ade",
   "metadata": {
    "scrolled": true
   },
   "outputs": [
    {
     "name": "stdout",
     "output_type": "stream",
     "text": [
      "Robustified 0 images in 0.057 seconds\n",
      "Robustified 1000 images in 9.212 seconds\n",
      "Robustified 2000 images in 9.359 seconds\n",
      "Robustified 3000 images in 10.028 seconds\n",
      "Robustified 4000 images in 9.504 seconds\n",
      "Robustified 5000 images in 9.174 seconds\n",
      "Robustified 6000 images in 10.705 seconds\n",
      "Robustified 7000 images in 11.300 seconds\n",
      "Robustified 8000 images in 10.568 seconds\n",
      "Robustified 9000 images in 9.888 seconds\n",
      "Robustified 10000 images in 10.441 seconds\n",
      "Robustified 11000 images in 10.269 seconds\n",
      "Robustified 12000 images in 11.034 seconds\n",
      "Robustified 13000 images in 9.824 seconds\n",
      "Robustified 14000 images in 10.287 seconds\n",
      "Robustified 15000 images in 9.551 seconds\n",
      "Robustified 16000 images in 9.054 seconds\n",
      "Robustified 17000 images in 9.037 seconds\n",
      "Robustified 18000 images in 9.870 seconds\n",
      "Robustified 19000 images in 11.464 seconds\n",
      "Robustified 20000 images in 9.718 seconds\n",
      "Robustified 21000 images in 9.795 seconds\n",
      "Robustified 22000 images in 9.360 seconds\n",
      "Robustified 23000 images in 9.127 seconds\n",
      "Robustified 24000 images in 8.962 seconds\n",
      "Robustified 25000 images in 9.723 seconds\n",
      "Robustified 26000 images in 9.410 seconds\n",
      "Robustified 27000 images in 9.377 seconds\n",
      "Robustified 28000 images in 9.984 seconds\n",
      "Robustified 29000 images in 10.340 seconds\n",
      "Robustified 30000 images in 9.773 seconds\n",
      "Robustified 31000 images in 9.909 seconds\n",
      "Robustified 32000 images in 10.287 seconds\n",
      "Robustified 33000 images in 9.304 seconds\n",
      "Robustified 34000 images in 12.195 seconds\n",
      "Robustified 35000 images in 11.102 seconds\n",
      "Robustified 36000 images in 11.439 seconds\n",
      "Robustified 37000 images in 8.659 seconds\n",
      "Robustified 38000 images in 8.990 seconds\n",
      "Robustified 39000 images in 10.652 seconds\n",
      "Robustified 40000 images in 9.969 seconds\n",
      "Robustified 41000 images in 8.974 seconds\n",
      "Robustified 42000 images in 9.060 seconds\n",
      "Robustified 43000 images in 9.199 seconds\n",
      "Robustified 44000 images in 10.461 seconds\n",
      "Robustified 45000 images in 9.294 seconds\n",
      "Robustified 46000 images in 8.758 seconds\n",
      "Robustified 47000 images in 8.813 seconds\n",
      "Robustified 48000 images in 8.731 seconds\n",
      "Robustified 49000 images in 8.795 seconds\n",
      "Robustified 50000 images in 8.759 seconds\n",
      "Robustified 51000 images in 8.761 seconds\n",
      "Robustified 52000 images in 8.713 seconds\n",
      "Robustified 53000 images in 8.861 seconds\n",
      "Robustified 54000 images in 8.794 seconds\n",
      "Robustified 55000 images in 8.761 seconds\n",
      "Robustified 56000 images in 8.950 seconds\n",
      "Robustified 57000 images in 8.801 seconds\n",
      "Robustified 58000 images in 8.667 seconds\n",
      "Robustified 59000 images in 9.935 seconds\n"
     ]
    }
   ],
   "source": [
    "robust_train = []\n",
    "orig_labels = []\n",
    "iters = 100\n",
    "example = False\n",
    "# initialize random image as last image in dataset\n",
    "rand_img = last_img\n",
    "rand_img = tf.expand_dims(rand_img, axis=0)\n",
    "\n",
    "start_time = time.time()\n",
    "for i, (img, label) in enumerate(unbatched_train):\n",
    "    # data point we want to get robust features for\n",
    "    curr_img = tf.expand_dims(img, axis=0)\n",
    "    goal_representation = robustifier(curr_img)\n",
    "    \n",
    "    \n",
    "    learned_delta = pgd_l2_robust(robustifier, rand_img, goal_representation, alpha=0.1, num_iter=iters)\n",
    "    robust_update = (rand_img + learned_delta)[0,:,:,:] # trim off first dim\n",
    "    robust_train.append(robust_update)\n",
    "    orig_labels.append(label)\n",
    "    \n",
    "    if i%1000 == 0:\n",
    "        elapsed = time.time() - start_time\n",
    "        print(f'Robustified {i} images in {elapsed:0.3f} seconds')\n",
    "        start_time = time.time()\n",
    "    \n",
    "    # reset random image to be previous image\n",
    "    rand_img = curr_img.numpy()"
   ]
  },
  {
   "cell_type": "markdown",
   "id": "90ee4b3b",
   "metadata": {},
   "source": [
    "### Aside to see adversarial examples"
   ]
  },
  {
   "cell_type": "code",
   "execution_count": 36,
   "id": "d70e42a3",
   "metadata": {},
   "outputs": [
    {
     "ename": "KeyboardInterrupt",
     "evalue": "",
     "output_type": "error",
     "traceback": [
      "\u001b[0;31m---------------------------------------------------------------------------\u001b[0m",
      "\u001b[0;31mKeyboardInterrupt\u001b[0m                         Traceback (most recent call last)",
      "\u001b[0;32m/var/folders/6d/zlwwf22d71s8f1xdghj42klm0000gn/T/ipykernel_74775/665678293.py\u001b[0m in \u001b[0;36m<module>\u001b[0;34m\u001b[0m\n\u001b[1;32m     18\u001b[0m     \u001b[0mfig\u001b[0m\u001b[0;34m,\u001b[0m \u001b[0maxs\u001b[0m \u001b[0;34m=\u001b[0m \u001b[0mplt\u001b[0m\u001b[0;34m.\u001b[0m\u001b[0msubplots\u001b[0m\u001b[0;34m(\u001b[0m\u001b[0;36m5\u001b[0m\u001b[0;34m,\u001b[0m \u001b[0;36m2\u001b[0m\u001b[0;34m,\u001b[0m \u001b[0mfigsize\u001b[0m\u001b[0;34m=\u001b[0m\u001b[0;34m(\u001b[0m\u001b[0;36m20\u001b[0m\u001b[0;34m,\u001b[0m\u001b[0;36m20\u001b[0m\u001b[0;34m)\u001b[0m\u001b[0;34m)\u001b[0m\u001b[0;34m\u001b[0m\u001b[0;34m\u001b[0m\u001b[0m\n\u001b[1;32m     19\u001b[0m     \u001b[0;32mfor\u001b[0m \u001b[0mi\u001b[0m\u001b[0;34m,\u001b[0m \u001b[0miters\u001b[0m \u001b[0;32min\u001b[0m \u001b[0menumerate\u001b[0m\u001b[0;34m(\u001b[0m\u001b[0;34m[\u001b[0m\u001b[0;36m1\u001b[0m\u001b[0;34m,\u001b[0m\u001b[0;36m2\u001b[0m\u001b[0;34m,\u001b[0m\u001b[0;36m50\u001b[0m\u001b[0;34m,\u001b[0m\u001b[0;36m100\u001b[0m\u001b[0;34m,\u001b[0m\u001b[0;36m1000\u001b[0m\u001b[0;34m]\u001b[0m\u001b[0;34m)\u001b[0m\u001b[0;34m:\u001b[0m\u001b[0;34m\u001b[0m\u001b[0;34m\u001b[0m\u001b[0m\n\u001b[0;32m---> 20\u001b[0;31m         \u001b[0mlearned_delta\u001b[0m \u001b[0;34m=\u001b[0m \u001b[0mpgd_l2_robust\u001b[0m\u001b[0;34m(\u001b[0m\u001b[0mrobustifier\u001b[0m\u001b[0;34m,\u001b[0m \u001b[0mrand_img\u001b[0m\u001b[0;34m,\u001b[0m \u001b[0mgoal_representation\u001b[0m\u001b[0;34m,\u001b[0m \u001b[0malpha\u001b[0m\u001b[0;34m=\u001b[0m\u001b[0;36m0.1\u001b[0m\u001b[0;34m,\u001b[0m \u001b[0mnum_iter\u001b[0m\u001b[0;34m=\u001b[0m\u001b[0miters\u001b[0m\u001b[0;34m)\u001b[0m\u001b[0;34m\u001b[0m\u001b[0;34m\u001b[0m\u001b[0m\n\u001b[0m\u001b[1;32m     21\u001b[0m         \u001b[0mrobust_update\u001b[0m \u001b[0;34m=\u001b[0m \u001b[0;34m(\u001b[0m\u001b[0mrand_img\u001b[0m \u001b[0;34m+\u001b[0m \u001b[0mlearned_delta\u001b[0m\u001b[0;34m)\u001b[0m\u001b[0;34m[\u001b[0m\u001b[0;36m0\u001b[0m\u001b[0;34m,\u001b[0m\u001b[0;34m:\u001b[0m\u001b[0;34m,\u001b[0m\u001b[0;34m:\u001b[0m\u001b[0;34m,\u001b[0m\u001b[0;34m:\u001b[0m\u001b[0;34m]\u001b[0m \u001b[0;31m# trim off first dim\u001b[0m\u001b[0;34m\u001b[0m\u001b[0;34m\u001b[0m\u001b[0m\n\u001b[1;32m     22\u001b[0m \u001b[0;34m\u001b[0m\u001b[0m\n",
      "\u001b[0;32m~/opt/miniconda3/lib/python3.7/site-packages/tensorflow/python/eager/def_function.py\u001b[0m in \u001b[0;36m__call__\u001b[0;34m(self, *args, **kwds)\u001b[0m\n\u001b[1;32m    778\u001b[0m       \u001b[0;32melse\u001b[0m\u001b[0;34m:\u001b[0m\u001b[0;34m\u001b[0m\u001b[0;34m\u001b[0m\u001b[0m\n\u001b[1;32m    779\u001b[0m         \u001b[0mcompiler\u001b[0m \u001b[0;34m=\u001b[0m \u001b[0;34m\"nonXla\"\u001b[0m\u001b[0;34m\u001b[0m\u001b[0;34m\u001b[0m\u001b[0m\n\u001b[0;32m--> 780\u001b[0;31m         \u001b[0mresult\u001b[0m \u001b[0;34m=\u001b[0m \u001b[0mself\u001b[0m\u001b[0;34m.\u001b[0m\u001b[0m_call\u001b[0m\u001b[0;34m(\u001b[0m\u001b[0;34m*\u001b[0m\u001b[0margs\u001b[0m\u001b[0;34m,\u001b[0m \u001b[0;34m**\u001b[0m\u001b[0mkwds\u001b[0m\u001b[0;34m)\u001b[0m\u001b[0;34m\u001b[0m\u001b[0;34m\u001b[0m\u001b[0m\n\u001b[0m\u001b[1;32m    781\u001b[0m \u001b[0;34m\u001b[0m\u001b[0m\n\u001b[1;32m    782\u001b[0m       \u001b[0mnew_tracing_count\u001b[0m \u001b[0;34m=\u001b[0m \u001b[0mself\u001b[0m\u001b[0;34m.\u001b[0m\u001b[0m_get_tracing_count\u001b[0m\u001b[0;34m(\u001b[0m\u001b[0;34m)\u001b[0m\u001b[0;34m\u001b[0m\u001b[0;34m\u001b[0m\u001b[0m\n",
      "\u001b[0;32m~/opt/miniconda3/lib/python3.7/site-packages/tensorflow/python/eager/def_function.py\u001b[0m in \u001b[0;36m_call\u001b[0;34m(self, *args, **kwds)\u001b[0m\n\u001b[1;32m    812\u001b[0m       \u001b[0;31m# In this case we have not created variables on the first call. So we can\u001b[0m\u001b[0;34m\u001b[0m\u001b[0;34m\u001b[0m\u001b[0;34m\u001b[0m\u001b[0m\n\u001b[1;32m    813\u001b[0m       \u001b[0;31m# run the first trace but we should fail if variables are created.\u001b[0m\u001b[0;34m\u001b[0m\u001b[0;34m\u001b[0m\u001b[0;34m\u001b[0m\u001b[0m\n\u001b[0;32m--> 814\u001b[0;31m       \u001b[0mresults\u001b[0m \u001b[0;34m=\u001b[0m \u001b[0mself\u001b[0m\u001b[0;34m.\u001b[0m\u001b[0m_stateful_fn\u001b[0m\u001b[0;34m(\u001b[0m\u001b[0;34m*\u001b[0m\u001b[0margs\u001b[0m\u001b[0;34m,\u001b[0m \u001b[0;34m**\u001b[0m\u001b[0mkwds\u001b[0m\u001b[0;34m)\u001b[0m\u001b[0;34m\u001b[0m\u001b[0;34m\u001b[0m\u001b[0m\n\u001b[0m\u001b[1;32m    815\u001b[0m       \u001b[0;32mif\u001b[0m \u001b[0mself\u001b[0m\u001b[0;34m.\u001b[0m\u001b[0m_created_variables\u001b[0m\u001b[0;34m:\u001b[0m\u001b[0;34m\u001b[0m\u001b[0;34m\u001b[0m\u001b[0m\n\u001b[1;32m    816\u001b[0m         raise ValueError(\"Creating variables on a non-first call to a function\"\n",
      "\u001b[0;32m~/opt/miniconda3/lib/python3.7/site-packages/tensorflow/python/eager/function.py\u001b[0m in \u001b[0;36m__call__\u001b[0;34m(self, *args, **kwargs)\u001b[0m\n\u001b[1;32m   2827\u001b[0m     \u001b[0;32mwith\u001b[0m \u001b[0mself\u001b[0m\u001b[0;34m.\u001b[0m\u001b[0m_lock\u001b[0m\u001b[0;34m:\u001b[0m\u001b[0;34m\u001b[0m\u001b[0;34m\u001b[0m\u001b[0m\n\u001b[1;32m   2828\u001b[0m       \u001b[0mgraph_function\u001b[0m\u001b[0;34m,\u001b[0m \u001b[0margs\u001b[0m\u001b[0;34m,\u001b[0m \u001b[0mkwargs\u001b[0m \u001b[0;34m=\u001b[0m \u001b[0mself\u001b[0m\u001b[0;34m.\u001b[0m\u001b[0m_maybe_define_function\u001b[0m\u001b[0;34m(\u001b[0m\u001b[0margs\u001b[0m\u001b[0;34m,\u001b[0m \u001b[0mkwargs\u001b[0m\u001b[0;34m)\u001b[0m\u001b[0;34m\u001b[0m\u001b[0;34m\u001b[0m\u001b[0m\n\u001b[0;32m-> 2829\u001b[0;31m     \u001b[0;32mreturn\u001b[0m \u001b[0mgraph_function\u001b[0m\u001b[0;34m.\u001b[0m\u001b[0m_filtered_call\u001b[0m\u001b[0;34m(\u001b[0m\u001b[0margs\u001b[0m\u001b[0;34m,\u001b[0m \u001b[0mkwargs\u001b[0m\u001b[0;34m)\u001b[0m  \u001b[0;31m# pylint: disable=protected-access\u001b[0m\u001b[0;34m\u001b[0m\u001b[0;34m\u001b[0m\u001b[0m\n\u001b[0m\u001b[1;32m   2830\u001b[0m \u001b[0;34m\u001b[0m\u001b[0m\n\u001b[1;32m   2831\u001b[0m   \u001b[0;34m@\u001b[0m\u001b[0mproperty\u001b[0m\u001b[0;34m\u001b[0m\u001b[0;34m\u001b[0m\u001b[0m\n",
      "\u001b[0;32m~/opt/miniconda3/lib/python3.7/site-packages/tensorflow/python/eager/function.py\u001b[0m in \u001b[0;36m_filtered_call\u001b[0;34m(self, args, kwargs, cancellation_manager)\u001b[0m\n\u001b[1;32m   1846\u001b[0m                            resource_variable_ops.BaseResourceVariable))],\n\u001b[1;32m   1847\u001b[0m         \u001b[0mcaptured_inputs\u001b[0m\u001b[0;34m=\u001b[0m\u001b[0mself\u001b[0m\u001b[0;34m.\u001b[0m\u001b[0mcaptured_inputs\u001b[0m\u001b[0;34m,\u001b[0m\u001b[0;34m\u001b[0m\u001b[0;34m\u001b[0m\u001b[0m\n\u001b[0;32m-> 1848\u001b[0;31m         cancellation_manager=cancellation_manager)\n\u001b[0m\u001b[1;32m   1849\u001b[0m \u001b[0;34m\u001b[0m\u001b[0m\n\u001b[1;32m   1850\u001b[0m   \u001b[0;32mdef\u001b[0m \u001b[0m_call_flat\u001b[0m\u001b[0;34m(\u001b[0m\u001b[0mself\u001b[0m\u001b[0;34m,\u001b[0m \u001b[0margs\u001b[0m\u001b[0;34m,\u001b[0m \u001b[0mcaptured_inputs\u001b[0m\u001b[0;34m,\u001b[0m \u001b[0mcancellation_manager\u001b[0m\u001b[0;34m=\u001b[0m\u001b[0;32mNone\u001b[0m\u001b[0;34m)\u001b[0m\u001b[0;34m:\u001b[0m\u001b[0;34m\u001b[0m\u001b[0;34m\u001b[0m\u001b[0m\n",
      "\u001b[0;32m~/opt/miniconda3/lib/python3.7/site-packages/tensorflow/python/eager/function.py\u001b[0m in \u001b[0;36m_call_flat\u001b[0;34m(self, args, captured_inputs, cancellation_manager)\u001b[0m\n\u001b[1;32m   1922\u001b[0m       \u001b[0;31m# No tape is watching; skip to running the function.\u001b[0m\u001b[0;34m\u001b[0m\u001b[0;34m\u001b[0m\u001b[0;34m\u001b[0m\u001b[0m\n\u001b[1;32m   1923\u001b[0m       return self._build_call_outputs(self._inference_function.call(\n\u001b[0;32m-> 1924\u001b[0;31m           ctx, args, cancellation_manager=cancellation_manager))\n\u001b[0m\u001b[1;32m   1925\u001b[0m     forward_backward = self._select_forward_and_backward_functions(\n\u001b[1;32m   1926\u001b[0m         \u001b[0margs\u001b[0m\u001b[0;34m,\u001b[0m\u001b[0;34m\u001b[0m\u001b[0;34m\u001b[0m\u001b[0m\n",
      "\u001b[0;32m~/opt/miniconda3/lib/python3.7/site-packages/tensorflow/python/eager/function.py\u001b[0m in \u001b[0;36mcall\u001b[0;34m(self, ctx, args, cancellation_manager)\u001b[0m\n\u001b[1;32m    548\u001b[0m               \u001b[0minputs\u001b[0m\u001b[0;34m=\u001b[0m\u001b[0margs\u001b[0m\u001b[0;34m,\u001b[0m\u001b[0;34m\u001b[0m\u001b[0;34m\u001b[0m\u001b[0m\n\u001b[1;32m    549\u001b[0m               \u001b[0mattrs\u001b[0m\u001b[0;34m=\u001b[0m\u001b[0mattrs\u001b[0m\u001b[0;34m,\u001b[0m\u001b[0;34m\u001b[0m\u001b[0;34m\u001b[0m\u001b[0m\n\u001b[0;32m--> 550\u001b[0;31m               ctx=ctx)\n\u001b[0m\u001b[1;32m    551\u001b[0m         \u001b[0;32melse\u001b[0m\u001b[0;34m:\u001b[0m\u001b[0;34m\u001b[0m\u001b[0;34m\u001b[0m\u001b[0m\n\u001b[1;32m    552\u001b[0m           outputs = execute.execute_with_cancellation(\n",
      "\u001b[0;32m~/opt/miniconda3/lib/python3.7/site-packages/tensorflow/python/eager/execute.py\u001b[0m in \u001b[0;36mquick_execute\u001b[0;34m(op_name, num_outputs, inputs, attrs, ctx, name)\u001b[0m\n\u001b[1;32m     58\u001b[0m     \u001b[0mctx\u001b[0m\u001b[0;34m.\u001b[0m\u001b[0mensure_initialized\u001b[0m\u001b[0;34m(\u001b[0m\u001b[0;34m)\u001b[0m\u001b[0;34m\u001b[0m\u001b[0;34m\u001b[0m\u001b[0m\n\u001b[1;32m     59\u001b[0m     tensors = pywrap_tfe.TFE_Py_Execute(ctx._handle, device_name, op_name,\n\u001b[0;32m---> 60\u001b[0;31m                                         inputs, attrs, num_outputs)\n\u001b[0m\u001b[1;32m     61\u001b[0m   \u001b[0;32mexcept\u001b[0m \u001b[0mcore\u001b[0m\u001b[0;34m.\u001b[0m\u001b[0m_NotOkStatusException\u001b[0m \u001b[0;32mas\u001b[0m \u001b[0me\u001b[0m\u001b[0;34m:\u001b[0m\u001b[0;34m\u001b[0m\u001b[0;34m\u001b[0m\u001b[0m\n\u001b[1;32m     62\u001b[0m     \u001b[0;32mif\u001b[0m \u001b[0mname\u001b[0m \u001b[0;32mis\u001b[0m \u001b[0;32mnot\u001b[0m \u001b[0;32mNone\u001b[0m\u001b[0;34m:\u001b[0m\u001b[0;34m\u001b[0m\u001b[0;34m\u001b[0m\u001b[0m\n",
      "\u001b[0;31mKeyboardInterrupt\u001b[0m: "
     ]
    },
    {
     "data": {
      "image/png": "[encoded data removed]",
      "text/plain": [
       "<Figure size 360x360 with 2 Axes>"
      ]
     },
     "metadata": {
      "needs_background": "light"
     },
     "output_type": "display_data"
    },
    {
     "data": {
      "image/png": "[encoded data removed]",
      "text/plain": [
       "<Figure size 1440x1440 with 10 Axes>"
      ]
     },
     "metadata": {
      "needs_background": "light"
     },
     "output_type": "display_data"
    }
   ],
   "source": [
    "example = True\n",
    "for img, label in unbatched_train:\n",
    "    # data point we want to get robust features for\n",
    "    curr_img = tf.expand_dims(img, axis=0)\n",
    "    goal_representation = robustifier(curr_img)\n",
    "    \n",
    "    # starting point for PGD is another point in the dataset\n",
    "    rand_img = next(unbatched_train.shuffle(int(1e6)).take(1).as_numpy_iterator())[0]\n",
    "    rand_img = tf.expand_dims(rand_img, axis=0)\n",
    "    \n",
    "    fig, starts = plt.subplots(1,2,figsize=(5,5))\n",
    "    starts = starts.flatten()\n",
    "    starts[0].imshow(rand_img[0,:,:,:].numpy())\n",
    "    starts[0].set_title('Random Initialization')\n",
    "    starts[1].imshow(curr_img[0,:,:,:])\n",
    "    starts[1].set_title('Target Image')\n",
    "    \n",
    "    fig, axs = plt.subplots(5, 2, figsize=(20,20))\n",
    "    for i, iters in enumerate([1,2,50,100,1000]):\n",
    "        learned_delta = pgd_l2_robust(robustifier, rand_img, goal_representation, alpha=0.1, num_iter=iters)\n",
    "        robust_update = (rand_img + learned_delta)[0,:,:,:] # trim off first dim\n",
    "    \n",
    "        axs[i][0].imshow(robust_update)\n",
    "        axs[i][0].set_title(f'Updated Image (iters={iters})')\n",
    "        axs[i][1].imshow(learned_delta[0,:,:,:])\n",
    "        axs[i][1].set_title(f'Delta (iters={iters})')\n",
    "        \n",
    "    break"
   ]
  },
  {
   "cell_type": "markdown",
   "id": "5f133883",
   "metadata": {},
   "source": [
    "## Try training on robust data set and testing with adversarial examples"
   ]
  },
  {
   "cell_type": "code",
   "execution_count": 37,
   "id": "f076f339",
   "metadata": {},
   "outputs": [
    {
     "data": {
      "text/plain": [
       "2"
      ]
     },
     "execution_count": 37,
     "metadata": {},
     "output_type": "execute_result"
    }
   ],
   "source": [
    "orig_labels[-10].numpy()"
   ]
  },
  {
   "cell_type": "code",
   "execution_count": 38,
   "id": "d5dd07a9",
   "metadata": {},
   "outputs": [
    {
     "data": {
      "text/plain": [
       "<matplotlib.image.AxesImage at 0x7fc899848f10>"
      ]
     },
     "execution_count": 38,
     "metadata": {},
     "output_type": "execute_result"
    },
    {
     "data": {
      "image/png": "[encoded data removed]",
      "text/plain": [
       "<Figure size 432x288 with 1 Axes>"
      ]
     },
     "metadata": {
      "needs_background": "light"
     },
     "output_type": "display_data"
    }
   ],
   "source": [
    "plt.imshow(robust_train[-10].numpy())"
   ]
  },
  {
   "cell_type": "code",
   "execution_count": 39,
   "id": "2568d597",
   "metadata": {},
   "outputs": [],
   "source": [
    "robust_ds = tf.data.Dataset.from_tensor_slices((robust_train, orig_labels)).batch(32)"
   ]
  },
  {
   "cell_type": "code",
   "execution_count": 42,
   "id": "40d723f8",
   "metadata": {},
   "outputs": [
    {
     "name": "stdout",
     "output_type": "stream",
     "text": [
      "Epoch 0/5, Time: 22.51 -- Train Loss: 1.01, Train Acc: 0.67, Test Loss: 0.36, Test Acc: 0.96\n",
      "Epoch 1/5, Time: 19.24 -- Train Loss: 0.63, Train Acc: 0.81, Test Loss: 0.19, Test Acc: 0.99\n",
      "Epoch 2/5, Time: 18.97 -- Train Loss: 0.53, Train Acc: 0.84, Test Loss: 0.12, Test Acc: 1.00\n",
      "Epoch 3/5, Time: 18.89 -- Train Loss: 0.49, Train Acc: 0.85, Test Loss: 0.09, Test Acc: 1.00\n",
      "Epoch 4/5, Time: 19.78 -- Train Loss: 0.46, Train Acc: 0.86, Test Loss: 0.07, Test Acc: 1.00\n"
     ]
    }
   ],
   "source": [
    "EPOCHS = 5\n",
    "\n",
    "# Build model again, leaving out summary\n",
    "model = build_cnn_model(1, 32)\n",
    "\n",
    "model.compile(\n",
    "    optimizer = tf.keras.optimizers.Adam(),\n",
    "    loss = tf.keras.losses.SparseCategoricalCrossentropy(),\n",
    "    metrics = ['accuracy']\n",
    ")\n",
    "\n",
    "for n in range(EPOCHS):\n",
    "    \n",
    "    t = time.time()\n",
    "    train_losses = []\n",
    "    train_accs = []\n",
    "    for b in robust_ds:\n",
    "        X, y = b\n",
    "\n",
    "        l, acc = model.train_on_batch(X, y)\n",
    "        train_losses.append(l)\n",
    "        train_accs.append(acc)\n",
    "\n",
    "    test_losses = []\n",
    "    test_accs = []\n",
    "    for vb in test_ds:\n",
    "        Xtest, ytest = vb\n",
    "        \n",
    "        # Apply attack to get delta\n",
    "        # Importantly, only attack at test time rather than during training\n",
    "#         delta = fgsm_attack(model, Xtest, ytest)\n",
    "        delta = pgd_l2_adv(model, Xtest, ytest, bounded=True, epsilon=0.1, alpha=1e-2, num_iter=40)\n",
    "        Xdtest = Xtest + delta\n",
    "        \n",
    "        l, acc = model.test_on_batch(Xdtest, ytest)\n",
    "        test_losses.append(l)\n",
    "        test_accs.append(acc)\n",
    "    \n",
    "    train_loss = sum(train_losses) / len(train_losses)\n",
    "    train_acc = sum(train_accs) / len(train_accs)\n",
    "    \n",
    "    test_loss = sum(test_losses) / len(test_losses)\n",
    "    test_acc = sum(test_accs) / len(test_accs)\n",
    "        \n",
    "    print(f\"Epoch {n}/{EPOCHS}, Time: {(time.time()-t):0.2f} -- Train Loss: {train_loss:0.2f}, \\\n",
    "Train Acc: {train_acc:0.2f}, Test Loss: {test_loss:0.2f}, Test Acc: {test_acc:0.2f}\")"
   ]
  }
 ],
 "metadata": {
  "kernelspec": {
   "display_name": "Python 3 (ipykernel)",
   "language": "python",
   "name": "python3"
  },
  "language_info": {
   "codemirror_mode": {
    "name": "ipython",
    "version": 3
   },
   "file_extension": ".py",
   "mimetype": "text/x-python",
   "name": "python",
   "nbconvert_exporter": "python",
   "pygments_lexer": "ipython3",
   "version": "3.7.7"
  }
 },
 "nbformat": 4,
 "nbformat_minor": 5
}
