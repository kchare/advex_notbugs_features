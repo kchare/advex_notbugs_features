{
 "cells": [
  {
   "cell_type": "markdown",
   "id": "730cd502",
   "metadata": {},
   "source": [
    "### References\n",
    "\n",
    "- https://adversarial-ml-tutorial.org/adversarial_examples/\n",
    "- https://arxiv.org/pdf/1905.02175.pdf"
   ]
  },
  {
   "cell_type": "code",
   "execution_count": 2,
   "id": "e7ad2cd0",
   "metadata": {},
   "outputs": [],
   "source": [
    "import tensorflow as tf\n",
    "from tensorflow import keras as K\n",
    "import tensorflow_datasets as tfds\n",
    "\n",
    "import numpy as np\n",
    "import scipy.stats as sp\n",
    "import matplotlib.pyplot as plt\n",
    "import pandas as pd\n",
    "import time"
   ]
  },
  {
   "cell_type": "code",
   "execution_count": 3,
   "id": "12a307b0",
   "metadata": {},
   "outputs": [],
   "source": [
    "def normalize(img, label):\n",
    "    return img / 255, label\n",
    "\n",
    "def make_tf_data(raw_ds):\n",
    "    ds = raw_ds.map(normalize)\n",
    "    return ds"
   ]
  },
  {
   "cell_type": "code",
   "execution_count": 4,
   "id": "97201c36",
   "metadata": {},
   "outputs": [],
   "source": [
    "def build_cnn_model(n_layers, n_filters, kernel_size=3, n_classes=10, model_name='basic_cnn'):\n",
    "    \"\"\"Builds basic CNN model for adversarial training; will need to be refactored\n",
    "    non-using default train setup\"\"\"\n",
    "    input_layer = tf.keras.layers.Input(shape=(28,28,1))\n",
    "    \n",
    "    # Add basic convolutional_layer\n",
    "    hidden = tf.keras.layers.Conv2D(n_filters, kernel_size=3, strides=2, activation = 'relu')(input_layer)\n",
    "    # Add single dense, non-linear layer\n",
    "    hidden = tf.keras.layers.Flatten()(hidden)\n",
    "    hidden = tf.keras.layers.Dense(16, activation = 'relu')(hidden)\n",
    "    output = tf.keras.layers.Dense(n_classes, activation='softmax')(hidden) # softmax since multiclass class. problem\n",
    "    \n",
    "    model = tf.keras.Model(inputs=input_layer, outputs=output)\n",
    "    return model"
   ]
  },
  {
   "cell_type": "code",
   "execution_count": null,
   "id": "d95ae046",
   "metadata": {},
   "outputs": [],
   "source": [
    "cifar_train = tfds.load('cifar10', split='train', shuffle_files=True, as_supervised=True, batch_size=32)\n",
    "cifar_test = tfds.load('cifar10', split='test', shuffle_files=True, as_supervised=True, batch_size=32)\n",
    "\n",
    "cifar_train = make_tf_data(cifar_train)\n",
    "cifar_test = make_tf_data(cifar_)"
   ]
  },
  {
   "cell_type": "code",
   "execution_count": 5,
   "id": "4c481223",
   "metadata": {},
   "outputs": [
    {
     "name": "stderr",
     "output_type": "stream",
     "text": [
      "2021-11-16 19:45:49.079165: I tensorflow/core/platform/cpu_feature_guard.cc:142] This TensorFlow binary is optimized with oneAPI Deep Neural Network Library (oneDNN)to use the following CPU instructions in performance-critical operations:  AVX2 FMA\n",
      "To enable them in other operations, rebuild TensorFlow with the appropriate compiler flags.\n",
      "2021-11-16 19:45:49.107949: I tensorflow/compiler/xla/service/service.cc:168] XLA service 0x7fa187786e20 initialized for platform Host (this does not guarantee that XLA will be used). Devices:\n",
      "2021-11-16 19:45:49.107968: I tensorflow/compiler/xla/service/service.cc:176]   StreamExecutor device (0): Host, Default Version\n"
     ]
    }
   ],
   "source": [
    "train_ds = tfds.load('mnist', split='train', shuffle_files=True, as_supervised=True, batch_size=32)\n",
    "test_ds = tfds.load('mnist', split='test', shuffle_files=True, as_supervised=True, batch_size=32)\n",
    "\n",
    "train_ds = make_tf_data(train_ds)\n",
    "test_ds = make_tf_data(test_ds)"
   ]
  },
  {
   "cell_type": "markdown",
   "id": "b68e79c0",
   "metadata": {},
   "source": [
    "### Train robust model resistant to FGSM attacks"
   ]
  },
  {
   "cell_type": "code",
   "execution_count": 6,
   "id": "953b8a1a",
   "metadata": {},
   "outputs": [],
   "source": [
    "@tf.function\n",
    "def fgsm_attack(model, X, y, epsilon=0.1):\n",
    "    delta = tf.zeros_like(X)\n",
    "    \n",
    "    # use GradientTape to perform autodiff\n",
    "    with tf.GradientTape() as tape:\n",
    "        # specifically 'watch' delta\n",
    "        # see here: https://www.tensorflow.org/guide/autodiff\n",
    "        tape.watch(delta)\n",
    "        loss = tf.keras.losses.SparseCategoricalCrossentropy()(y, model(X + delta))\n",
    "    delta = tf.sign(tape.gradient(loss, delta)) * epsilon\n",
    "    return delta"
   ]
  },
  {
   "cell_type": "code",
   "execution_count": 35,
   "id": "34190931",
   "metadata": {},
   "outputs": [],
   "source": [
    "@tf.function\n",
    "def onestep_pgd_linf(model, X, y, epsilon, alpha, delta):\n",
    "    with tf.GradientTape() as tape:\n",
    "        tape.watch(delta)\n",
    "        loss = tf.keras.losses.SparseCategoricalCrossentropy()(y, model(X + delta))\n",
    "\n",
    "    delta = tf.clip_by_value(delta + alpha*tf.sign(tape.gradient(loss, delta)), -epsilon, epsilon)\n",
    "    \n",
    "    return delta\n",
    "\n",
    "def pgd_linf(model, X, y, epsilon, alpha, num_iter):\n",
    "    \"\"\" Construct FGSM adversarial examples on the examples X\"\"\"\n",
    "    delta = tf.zeros_like(X)\n",
    "    for t in range(num_iter):\n",
    "        delta = onestep_pgd_linf(model, X, y, epsilon, alpha, delta)\n",
    "    return delta"
   ]
  },
  {
   "cell_type": "code",
   "execution_count": 37,
   "id": "7f4071b0",
   "metadata": {},
   "outputs": [
    {
     "name": "stdout",
     "output_type": "stream",
     "text": [
      "Epoch 0/5, Time: 14.32 -- Train Loss: 0.37, Train Acc: 0.89, Test Loss: 0.13, Test Acc: 0.96\n",
      "Epoch 1/5, Time: 11.62 -- Train Loss: 0.18, Train Acc: 0.95, Test Loss: 0.09, Test Acc: 0.97\n",
      "Epoch 2/5, Time: 12.63 -- Train Loss: 0.14, Train Acc: 0.96, Test Loss: 0.08, Test Acc: 0.98\n",
      "Epoch 3/5, Time: 12.40 -- Train Loss: 0.12, Train Acc: 0.96, Test Loss: 0.07, Test Acc: 0.98\n",
      "Epoch 4/5, Time: 14.22 -- Train Loss: 0.11, Train Acc: 0.97, Test Loss: 0.06, Test Acc: 0.98\n"
     ]
    }
   ],
   "source": [
    "EPOCHS = 5\n",
    "\n",
    "# Build model again, leaving out summary\n",
    "robust_model = build_cnn_model(1, 32)\n",
    "\n",
    "robust_model.compile(\n",
    "    optimizer = tf.keras.optimizers.Adam(),\n",
    "    loss = tf.keras.losses.SparseCategoricalCrossentropy(),\n",
    "    metrics = ['accuracy']\n",
    ")\n",
    "\n",
    "for n in range(EPOCHS):\n",
    "    t = time.time()\n",
    "    train_losses = []\n",
    "    train_accs = []\n",
    "    for b in train_ds:\n",
    "        X, y = b\n",
    "        \n",
    "        # Apply attack during training as well as testing\n",
    "        delta = fgsm_attack(robust_model, X, y, 0.02)\n",
    "#         delta = pgd_linf(robust_model, X, y, epsilon=0.1, alpha=1e-2, num_iter=40)\n",
    "        Xd = X + delta\n",
    "\n",
    "        l, acc = robust_model.train_on_batch(Xd, y)\n",
    "        train_losses.append(l)\n",
    "        train_accs.append(acc)\n",
    "\n",
    "    test_losses = []\n",
    "    test_accs = []\n",
    "    for vb in test_ds:\n",
    "        Xtest, ytest = vb\n",
    "        \n",
    "        # Apply attack to get delta\n",
    "        # Importantly, only attack at test time rather than during training\n",
    "        #delta = fgsm_attack(model, Xtest, ytest)\n",
    "        Xdtest = Xtest #+ delta\n",
    "        \n",
    "        l, acc = robust_model.test_on_batch(Xdtest, ytest)\n",
    "        test_losses.append(l)\n",
    "        test_accs.append(acc)\n",
    "    \n",
    "    train_loss = sum(train_losses) / len(train_losses)\n",
    "    train_acc = sum(train_accs) / len(train_accs)\n",
    "    \n",
    "    test_loss = sum(test_losses) / len(test_losses)\n",
    "    test_acc = sum(test_accs) / len(test_accs)\n",
    "        \n",
    "    print(f\"Epoch {n}/{EPOCHS}, Time: {(time.time()-t):0.2f} -- Train Loss: {train_loss:0.2f}, \\\n",
    "Train Acc: {train_acc:0.2f}, Test Loss: {test_loss:0.2f}, Test Acc: {test_acc:0.2f}\")"
   ]
  },
  {
   "cell_type": "markdown",
   "id": "e35b2c7b",
   "metadata": {},
   "source": [
    "### Generate robust version of original data"
   ]
  },
  {
   "cell_type": "markdown",
   "id": "6ff02734",
   "metadata": {},
   "source": [
    "Use robust NN to create a robustifier"
   ]
  },
  {
   "cell_type": "code",
   "execution_count": 38,
   "id": "4ec23269",
   "metadata": {},
   "outputs": [],
   "source": [
    "# Grab representation layer from robust model\n",
    "representation = robust_model.layers[-2]\n",
    "robustifier = tf.keras.Model(inputs = robust_model.input, outputs = representation.output)"
   ]
  },
  {
   "cell_type": "code",
   "execution_count": 39,
   "id": "323c91c2",
   "metadata": {},
   "outputs": [],
   "source": [
    "def norm(Z):\n",
    "    \"\"\"Compute norms over all but the first dimension\"\"\"\n",
    "    return tf.norm(Z[0,:,:,:])\n",
    "\n",
    "@tf.function\n",
    "def single_pgd_step(model, X, y, alpha, delta):\n",
    "    with tf.GradientTape() as tape:\n",
    "        tape.watch(delta)\n",
    "        loss = tf.keras.losses.MeanSquaredError()(y, model(X + delta))\n",
    "\n",
    "    grad = tape.gradient(loss, delta)\n",
    "    delta -= alpha*grad / norm(grad) # normalized gradient step\n",
    "    delta = tf.math.minimum(tf.math.maximum(delta, -X), 1-X) # clip X+delta to [0,1]\n",
    "    \n",
    "    return delta, loss\n",
    "\n",
    "def pgd_l2(model, X, y, alpha, num_iter):\n",
    "    delta = tf.zeros_like(X)\n",
    "    loss = 0\n",
    "    for t in range(num_iter):\n",
    "        delta, loss = single_pgd_step(model, X, y, alpha, delta)\n",
    "            # No epsilon bound here\n",
    "    #         delta.data *= epsilon / norms(delta.detach()).clamp(min=epsilon) \n",
    "            # I think tensorflow does this automatically\n",
    "#             delta.grad.zero_()\n",
    "\n",
    "    if example:\n",
    "        print(f'{num_iter} iterations, final MSE {loss}')\n",
    "    return delta"
   ]
  },
  {
   "cell_type": "code",
   "execution_count": 40,
   "id": "ddff9dad",
   "metadata": {},
   "outputs": [],
   "source": [
    "unbatched_train = train_ds.unbatch()"
   ]
  },
  {
   "cell_type": "code",
   "execution_count": 18,
   "id": "50690ade",
   "metadata": {
    "scrolled": true
   },
   "outputs": [
    {
     "name": "stdout",
     "output_type": "stream",
     "text": [
      "Robustified 0 images in 0.347 seconds\n",
      "Robustified 1000 images in 270.550 seconds\n",
      "Robustified 2000 images in 276.991 seconds\n",
      "Robustified 3000 images in 301.226 seconds\n",
      "Robustified 4000 images in 293.552 seconds\n",
      "Robustified 5000 images in 308.053 seconds\n",
      "Robustified 6000 images in 293.672 seconds\n",
      "Robustified 7000 images in 285.187 seconds\n",
      "Robustified 8000 images in 282.198 seconds\n",
      "Robustified 9000 images in 288.534 seconds\n",
      "Robustified 10000 images in 275.635 seconds\n",
      "Robustified 11000 images in 286.838 seconds\n"
     ]
    },
    {
     "ename": "KeyboardInterrupt",
     "evalue": "",
     "output_type": "error",
     "traceback": [
      "\u001b[0;31m---------------------------------------------------------------------------\u001b[0m",
      "\u001b[0;31mKeyboardInterrupt\u001b[0m                         Traceback (most recent call last)",
      "\u001b[0;32m/var/folders/6d/zlwwf22d71s8f1xdghj42klm0000gn/T/ipykernel_4432/2318399679.py\u001b[0m in \u001b[0;36m<module>\u001b[0;34m\u001b[0m\n\u001b[1;32m     10\u001b[0m \u001b[0;34m\u001b[0m\u001b[0m\n\u001b[1;32m     11\u001b[0m     \u001b[0;31m# starting point for PGD is another point in the dataset\u001b[0m\u001b[0;34m\u001b[0m\u001b[0;34m\u001b[0m\u001b[0;34m\u001b[0m\u001b[0m\n\u001b[0;32m---> 12\u001b[0;31m     \u001b[0mrand_img\u001b[0m \u001b[0;34m=\u001b[0m \u001b[0mnext\u001b[0m\u001b[0;34m(\u001b[0m\u001b[0munbatched_train\u001b[0m\u001b[0;34m.\u001b[0m\u001b[0mshuffle\u001b[0m\u001b[0;34m(\u001b[0m\u001b[0mint\u001b[0m\u001b[0;34m(\u001b[0m\u001b[0;36m1e6\u001b[0m\u001b[0;34m)\u001b[0m\u001b[0;34m)\u001b[0m\u001b[0;34m.\u001b[0m\u001b[0mtake\u001b[0m\u001b[0;34m(\u001b[0m\u001b[0;36m1\u001b[0m\u001b[0;34m)\u001b[0m\u001b[0;34m.\u001b[0m\u001b[0mas_numpy_iterator\u001b[0m\u001b[0;34m(\u001b[0m\u001b[0;34m)\u001b[0m\u001b[0;34m)\u001b[0m\u001b[0;34m[\u001b[0m\u001b[0;36m0\u001b[0m\u001b[0;34m]\u001b[0m\u001b[0;34m\u001b[0m\u001b[0;34m\u001b[0m\u001b[0m\n\u001b[0m\u001b[1;32m     13\u001b[0m     \u001b[0mrand_img\u001b[0m \u001b[0;34m=\u001b[0m \u001b[0mtf\u001b[0m\u001b[0;34m.\u001b[0m\u001b[0mexpand_dims\u001b[0m\u001b[0;34m(\u001b[0m\u001b[0mrand_img\u001b[0m\u001b[0;34m,\u001b[0m \u001b[0maxis\u001b[0m\u001b[0;34m=\u001b[0m\u001b[0;36m0\u001b[0m\u001b[0;34m)\u001b[0m\u001b[0;34m\u001b[0m\u001b[0;34m\u001b[0m\u001b[0m\n\u001b[1;32m     14\u001b[0m \u001b[0;34m\u001b[0m\u001b[0m\n",
      "\u001b[0;32m~/opt/miniconda3/lib/python3.7/site-packages/tensorflow/python/data/ops/dataset_ops.py\u001b[0m in \u001b[0;36m__next__\u001b[0;34m(self)\u001b[0m\n\u001b[1;32m   3781\u001b[0m \u001b[0;34m\u001b[0m\u001b[0m\n\u001b[1;32m   3782\u001b[0m   \u001b[0;32mdef\u001b[0m \u001b[0m__next__\u001b[0m\u001b[0;34m(\u001b[0m\u001b[0mself\u001b[0m\u001b[0;34m)\u001b[0m\u001b[0;34m:\u001b[0m\u001b[0;34m\u001b[0m\u001b[0;34m\u001b[0m\u001b[0m\n\u001b[0;32m-> 3783\u001b[0;31m     \u001b[0;32mreturn\u001b[0m \u001b[0mself\u001b[0m\u001b[0;34m.\u001b[0m\u001b[0mnext\u001b[0m\u001b[0;34m(\u001b[0m\u001b[0;34m)\u001b[0m\u001b[0;34m\u001b[0m\u001b[0;34m\u001b[0m\u001b[0m\n\u001b[0m\u001b[1;32m   3784\u001b[0m \u001b[0;34m\u001b[0m\u001b[0m\n\u001b[1;32m   3785\u001b[0m \u001b[0;34m\u001b[0m\u001b[0m\n",
      "\u001b[0;32m~/opt/miniconda3/lib/python3.7/site-packages/tensorflow/python/data/ops/dataset_ops.py\u001b[0m in \u001b[0;36mnext\u001b[0;34m(self)\u001b[0m\n\u001b[1;32m   3778\u001b[0m \u001b[0;34m\u001b[0m\u001b[0m\n\u001b[1;32m   3779\u001b[0m   \u001b[0;32mdef\u001b[0m \u001b[0mnext\u001b[0m\u001b[0;34m(\u001b[0m\u001b[0mself\u001b[0m\u001b[0;34m)\u001b[0m\u001b[0;34m:\u001b[0m\u001b[0;34m\u001b[0m\u001b[0;34m\u001b[0m\u001b[0m\n\u001b[0;32m-> 3780\u001b[0;31m     \u001b[0;32mreturn\u001b[0m \u001b[0mnest\u001b[0m\u001b[0;34m.\u001b[0m\u001b[0mmap_structure\u001b[0m\u001b[0;34m(\u001b[0m\u001b[0;32mlambda\u001b[0m \u001b[0mx\u001b[0m\u001b[0;34m:\u001b[0m \u001b[0mx\u001b[0m\u001b[0;34m.\u001b[0m\u001b[0mnumpy\u001b[0m\u001b[0;34m(\u001b[0m\u001b[0;34m)\u001b[0m\u001b[0;34m,\u001b[0m \u001b[0mnext\u001b[0m\u001b[0;34m(\u001b[0m\u001b[0mself\u001b[0m\u001b[0;34m.\u001b[0m\u001b[0m_iterator\u001b[0m\u001b[0;34m)\u001b[0m\u001b[0;34m)\u001b[0m\u001b[0;34m\u001b[0m\u001b[0;34m\u001b[0m\u001b[0m\n\u001b[0m\u001b[1;32m   3781\u001b[0m \u001b[0;34m\u001b[0m\u001b[0m\n\u001b[1;32m   3782\u001b[0m   \u001b[0;32mdef\u001b[0m \u001b[0m__next__\u001b[0m\u001b[0;34m(\u001b[0m\u001b[0mself\u001b[0m\u001b[0;34m)\u001b[0m\u001b[0;34m:\u001b[0m\u001b[0;34m\u001b[0m\u001b[0;34m\u001b[0m\u001b[0m\n",
      "\u001b[0;32m~/opt/miniconda3/lib/python3.7/site-packages/tensorflow/python/data/ops/iterator_ops.py\u001b[0m in \u001b[0;36m__next__\u001b[0;34m(self)\u001b[0m\n\u001b[1;32m    734\u001b[0m \u001b[0;34m\u001b[0m\u001b[0m\n\u001b[1;32m    735\u001b[0m   \u001b[0;32mdef\u001b[0m \u001b[0m__next__\u001b[0m\u001b[0;34m(\u001b[0m\u001b[0mself\u001b[0m\u001b[0;34m)\u001b[0m\u001b[0;34m:\u001b[0m  \u001b[0;31m# For Python 3 compatibility\u001b[0m\u001b[0;34m\u001b[0m\u001b[0;34m\u001b[0m\u001b[0m\n\u001b[0;32m--> 736\u001b[0;31m     \u001b[0;32mreturn\u001b[0m \u001b[0mself\u001b[0m\u001b[0;34m.\u001b[0m\u001b[0mnext\u001b[0m\u001b[0;34m(\u001b[0m\u001b[0;34m)\u001b[0m\u001b[0;34m\u001b[0m\u001b[0;34m\u001b[0m\u001b[0m\n\u001b[0m\u001b[1;32m    737\u001b[0m \u001b[0;34m\u001b[0m\u001b[0m\n\u001b[1;32m    738\u001b[0m   \u001b[0;32mdef\u001b[0m \u001b[0m_next_internal\u001b[0m\u001b[0;34m(\u001b[0m\u001b[0mself\u001b[0m\u001b[0;34m)\u001b[0m\u001b[0;34m:\u001b[0m\u001b[0;34m\u001b[0m\u001b[0;34m\u001b[0m\u001b[0m\n",
      "\u001b[0;32m~/opt/miniconda3/lib/python3.7/site-packages/tensorflow/python/data/ops/iterator_ops.py\u001b[0m in \u001b[0;36mnext\u001b[0;34m(self)\u001b[0m\n\u001b[1;32m    770\u001b[0m   \u001b[0;32mdef\u001b[0m \u001b[0mnext\u001b[0m\u001b[0;34m(\u001b[0m\u001b[0mself\u001b[0m\u001b[0;34m)\u001b[0m\u001b[0;34m:\u001b[0m\u001b[0;34m\u001b[0m\u001b[0;34m\u001b[0m\u001b[0m\n\u001b[1;32m    771\u001b[0m     \u001b[0;32mtry\u001b[0m\u001b[0;34m:\u001b[0m\u001b[0;34m\u001b[0m\u001b[0;34m\u001b[0m\u001b[0m\n\u001b[0;32m--> 772\u001b[0;31m       \u001b[0;32mreturn\u001b[0m \u001b[0mself\u001b[0m\u001b[0;34m.\u001b[0m\u001b[0m_next_internal\u001b[0m\u001b[0;34m(\u001b[0m\u001b[0;34m)\u001b[0m\u001b[0;34m\u001b[0m\u001b[0;34m\u001b[0m\u001b[0m\n\u001b[0m\u001b[1;32m    773\u001b[0m     \u001b[0;32mexcept\u001b[0m \u001b[0merrors\u001b[0m\u001b[0;34m.\u001b[0m\u001b[0mOutOfRangeError\u001b[0m\u001b[0;34m:\u001b[0m\u001b[0;34m\u001b[0m\u001b[0;34m\u001b[0m\u001b[0m\n\u001b[1;32m    774\u001b[0m       \u001b[0;32mraise\u001b[0m \u001b[0mStopIteration\u001b[0m\u001b[0;34m\u001b[0m\u001b[0;34m\u001b[0m\u001b[0m\n",
      "\u001b[0;32m~/opt/miniconda3/lib/python3.7/site-packages/tensorflow/python/data/ops/iterator_ops.py\u001b[0m in \u001b[0;36m_next_internal\u001b[0;34m(self)\u001b[0m\n\u001b[1;32m    756\u001b[0m             \u001b[0mself\u001b[0m\u001b[0;34m.\u001b[0m\u001b[0m_iterator_resource\u001b[0m\u001b[0;34m,\u001b[0m\u001b[0;34m\u001b[0m\u001b[0;34m\u001b[0m\u001b[0m\n\u001b[1;32m    757\u001b[0m             \u001b[0moutput_types\u001b[0m\u001b[0;34m=\u001b[0m\u001b[0mself\u001b[0m\u001b[0;34m.\u001b[0m\u001b[0m_flat_output_types\u001b[0m\u001b[0;34m,\u001b[0m\u001b[0;34m\u001b[0m\u001b[0;34m\u001b[0m\u001b[0m\n\u001b[0;32m--> 758\u001b[0;31m             output_shapes=self._flat_output_shapes)\n\u001b[0m\u001b[1;32m    759\u001b[0m \u001b[0;34m\u001b[0m\u001b[0m\n\u001b[1;32m    760\u001b[0m       \u001b[0;32mtry\u001b[0m\u001b[0;34m:\u001b[0m\u001b[0;34m\u001b[0m\u001b[0;34m\u001b[0m\u001b[0m\n",
      "\u001b[0;32m~/opt/miniconda3/lib/python3.7/site-packages/tensorflow/python/ops/gen_dataset_ops.py\u001b[0m in \u001b[0;36miterator_get_next\u001b[0;34m(iterator, output_types, output_shapes, name)\u001b[0m\n\u001b[1;32m   2605\u001b[0m         \u001b[0m_ctx\u001b[0m\u001b[0;34m.\u001b[0m\u001b[0m_context_handle\u001b[0m\u001b[0;34m,\u001b[0m \u001b[0mtld\u001b[0m\u001b[0;34m.\u001b[0m\u001b[0mdevice_name\u001b[0m\u001b[0;34m,\u001b[0m \u001b[0;34m\"IteratorGetNext\"\u001b[0m\u001b[0;34m,\u001b[0m \u001b[0mname\u001b[0m\u001b[0;34m,\u001b[0m\u001b[0;34m\u001b[0m\u001b[0;34m\u001b[0m\u001b[0m\n\u001b[1;32m   2606\u001b[0m         \u001b[0mtld\u001b[0m\u001b[0;34m.\u001b[0m\u001b[0mop_callbacks\u001b[0m\u001b[0;34m,\u001b[0m \u001b[0miterator\u001b[0m\u001b[0;34m,\u001b[0m \u001b[0;34m\"output_types\"\u001b[0m\u001b[0;34m,\u001b[0m \u001b[0moutput_types\u001b[0m\u001b[0;34m,\u001b[0m\u001b[0;34m\u001b[0m\u001b[0;34m\u001b[0m\u001b[0m\n\u001b[0;32m-> 2607\u001b[0;31m         \"output_shapes\", output_shapes)\n\u001b[0m\u001b[1;32m   2608\u001b[0m       \u001b[0;32mreturn\u001b[0m \u001b[0m_result\u001b[0m\u001b[0;34m\u001b[0m\u001b[0;34m\u001b[0m\u001b[0m\n\u001b[1;32m   2609\u001b[0m     \u001b[0;32mexcept\u001b[0m \u001b[0m_core\u001b[0m\u001b[0;34m.\u001b[0m\u001b[0m_NotOkStatusException\u001b[0m \u001b[0;32mas\u001b[0m \u001b[0me\u001b[0m\u001b[0;34m:\u001b[0m\u001b[0;34m\u001b[0m\u001b[0;34m\u001b[0m\u001b[0m\n",
      "\u001b[0;31mKeyboardInterrupt\u001b[0m: "
     ]
    }
   ],
   "source": [
    "robust_train = []\n",
    "orig_labels = []\n",
    "iters = 100\n",
    "example = False\n",
    "start_time = time.time()\n",
    "for i, (img, label) in enumerate(unbatched_train):\n",
    "    # data point we want to get robust features for\n",
    "    curr_img = tf.expand_dims(img, axis=0)\n",
    "    goal_representation = robustifier(curr_img)\n",
    "    \n",
    "    # starting point for PGD is another point in the dataset\n",
    "    rand_img = next(unbatched_train.shuffle(int(1e6)).take(1).as_numpy_iterator())[0]\n",
    "    rand_img = tf.expand_dims(rand_img, axis=0)\n",
    "    \n",
    "    learned_delta = pgd_l2(robustifier, rand_img, goal_representation, alpha=0.1, num_iter=iters)\n",
    "    robust_update = (rand_img + learned_delta)[0,:,:,:] # trim off first dim\n",
    "    robust_train.append(robust_update)\n",
    "    orig_labels.append(label)\n",
    "    \n",
    "    if i%1000 == 0:\n",
    "        elapsed = time.time() - start_time\n",
    "        print(f'Robustified {i} images in {elapsed:0.3f} seconds')\n",
    "        start_time = time.time()"
   ]
  },
  {
   "cell_type": "code",
   "execution_count": 41,
   "id": "d70e42a3",
   "metadata": {},
   "outputs": [
    {
     "name": "stdout",
     "output_type": "stream",
     "text": [
      "1 iterations, final MSE 25.184667587280273\n",
      "2 iterations, final MSE 24.665740966796875\n",
      "50 iterations, final MSE 2.3101258277893066\n",
      "100 iterations, final MSE 0.014971546828746796\n",
      "1000 iterations, final MSE 0.014659932814538479\n"
     ]
    },
    {
     "data": {
      "image/png": "[encoded data removed]",
      "text/plain": [
       "<Figure size 360x360 with 2 Axes>"
      ]
     },
     "metadata": {
      "needs_background": "light"
     },
     "output_type": "display_data"
    },
    {
     "data": {
      "image/png": "[encoded data removed]",
      "text/plain": [
       "<Figure size 1440x1440 with 10 Axes>"
      ]
     },
     "metadata": {
      "needs_background": "light"
     },
     "output_type": "display_data"
    }
   ],
   "source": [
    "example = True\n",
    "for img, label in unbatched_train:\n",
    "    # data point we want to get robust features for\n",
    "    curr_img = tf.expand_dims(img, axis=0)\n",
    "    goal_representation = robustifier(curr_img)\n",
    "    \n",
    "    # starting point for PGD is another point in the dataset\n",
    "    rand_img = next(unbatched_train.shuffle(int(1e6)).take(1).as_numpy_iterator())[0]\n",
    "    rand_img = tf.expand_dims(rand_img, axis=0)\n",
    "    \n",
    "    fig, starts = plt.subplots(1,2,figsize=(5,5))\n",
    "    starts = starts.flatten()\n",
    "    starts[0].imshow(rand_img[0,:,:,:].numpy())\n",
    "    starts[0].set_title('Random Initialization')\n",
    "    starts[1].imshow(curr_img[0,:,:,:])\n",
    "    starts[1].set_title('Target Image')\n",
    "    \n",
    "    fig, axs = plt.subplots(5, 2, figsize=(20,20))\n",
    "    for i, iters in enumerate([1,2,50,100,1000]):\n",
    "        learned_delta = pgd_l2(robustifier, rand_img, goal_representation, alpha=0.1, num_iter=iters)\n",
    "        robust_update = (rand_img + learned_delta)[0,:,:,:] # trim off first dim\n",
    "    \n",
    "        axs[i][0].imshow(robust_update)\n",
    "        axs[i][0].set_title(f'Updated Image (iters={iters})')\n",
    "        axs[i][1].imshow(learned_delta[0,:,:,:])\n",
    "        axs[i][1].set_title(f'Delta (iters={iters})')\n",
    "        \n",
    "    break"
   ]
  },
  {
   "cell_type": "markdown",
   "id": "5f133883",
   "metadata": {},
   "source": [
    "### Try training on robust data set and testing with adversarial examples"
   ]
  },
  {
   "cell_type": "code",
   "execution_count": 26,
   "id": "f076f339",
   "metadata": {},
   "outputs": [
    {
     "data": {
      "text/plain": [
       "9"
      ]
     },
     "execution_count": 26,
     "metadata": {},
     "output_type": "execute_result"
    }
   ],
   "source": [
    "orig_labels[-10].numpy()"
   ]
  },
  {
   "cell_type": "code",
   "execution_count": 27,
   "id": "d5dd07a9",
   "metadata": {},
   "outputs": [
    {
     "data": {
      "text/plain": [
       "<matplotlib.image.AxesImage at 0x7fa159a34650>"
      ]
     },
     "execution_count": 27,
     "metadata": {},
     "output_type": "execute_result"
    },
    {
     "data": {
      "image/png": "[encoded data removed]",
      "text/plain": [
       "<Figure size 432x288 with 1 Axes>"
      ]
     },
     "metadata": {
      "needs_background": "light"
     },
     "output_type": "display_data"
    }
   ],
   "source": [
    "plt.imshow(robust_train[-10].numpy())"
   ]
  },
  {
   "cell_type": "code",
   "execution_count": 28,
   "id": "2568d597",
   "metadata": {},
   "outputs": [],
   "source": [
    "robust_ds = tf.data.Dataset.from_tensor_slices((robust_train, orig_labels)).batch(32)"
   ]
  },
  {
   "cell_type": "code",
   "execution_count": 29,
   "id": "40d723f8",
   "metadata": {},
   "outputs": [
    {
     "name": "stdout",
     "output_type": "stream",
     "text": [
      "Epoch 0/5, Time: 3.90 -- Train Loss: 1.18, Train Acc: 0.63, Test Loss: 7.34, Test Acc: 0.00\n",
      "Epoch 1/5, Time: 3.23 -- Train Loss: 0.45, Train Acc: 0.86, Test Loss: 9.27, Test Acc: 0.00\n",
      "Epoch 2/5, Time: 3.24 -- Train Loss: 0.32, Train Acc: 0.90, Test Loss: 10.31, Test Acc: 0.00\n",
      "Epoch 3/5, Time: 3.22 -- Train Loss: 0.26, Train Acc: 0.92, Test Loss: 11.20, Test Acc: 0.00\n",
      "Epoch 4/5, Time: 4.10 -- Train Loss: 0.22, Train Acc: 0.94, Test Loss: 12.32, Test Acc: 0.00\n"
     ]
    }
   ],
   "source": [
    "EPOCHS = 5\n",
    "\n",
    "# Build model again, leaving out summary\n",
    "model = build_cnn_model(1, 32)\n",
    "\n",
    "model.compile(\n",
    "    optimizer = tf.keras.optimizers.Adam(),\n",
    "    loss = tf.keras.losses.SparseCategoricalCrossentropy(),\n",
    "    metrics = ['accuracy']\n",
    ")\n",
    "\n",
    "for n in range(EPOCHS):\n",
    "    \n",
    "    t = time.time()\n",
    "    train_losses = []\n",
    "    train_accs = []\n",
    "    for b in robust_ds:\n",
    "        X, y = b\n",
    "\n",
    "        l, acc = model.train_on_batch(X, y)\n",
    "        train_losses.append(l)\n",
    "        train_accs.append(acc)\n",
    "\n",
    "    test_losses = []\n",
    "    test_accs = []\n",
    "    for vb in test_ds:\n",
    "        Xtest, ytest = vb\n",
    "        \n",
    "        # Apply attack to get delta\n",
    "        # Importantly, only attack at test time rather than during training\n",
    "        delta = fgsm_attack(model, Xtest, ytest)\n",
    "        Xdtest = Xtest + delta\n",
    "        \n",
    "        l, acc = model.test_on_batch(Xdtest, ytest)\n",
    "        test_losses.append(l)\n",
    "        test_accs.append(acc)\n",
    "    \n",
    "    train_loss = sum(train_losses) / len(train_losses)\n",
    "    train_acc = sum(train_accs) / len(train_accs)\n",
    "    \n",
    "    test_loss = sum(test_losses) / len(test_losses)\n",
    "    test_acc = sum(test_accs) / len(test_accs)\n",
    "        \n",
    "    print(f\"Epoch {n}/{EPOCHS}, Time: {(time.time()-t):0.2f} -- Train Loss: {train_loss:0.2f}, \\\n",
    "Train Acc: {train_acc:0.2f}, Test Loss: {test_loss:0.2f}, Test Acc: {test_acc:0.2f}\")"
   ]
  },
  {
   "cell_type": "code",
   "execution_count": null,
   "id": "96ba4608",
   "metadata": {},
   "outputs": [],
   "source": []
  }
 ],
 "metadata": {
  "kernelspec": {
   "display_name": "Python 3 (ipykernel)",
   "language": "python",
   "name": "python3"
  },
  "language_info": {
   "codemirror_mode": {
    "name": "ipython",
    "version": 3
   },
   "file_extension": ".py",
   "mimetype": "text/x-python",
   "name": "python",
   "nbconvert_exporter": "python",
   "pygments_lexer": "ipython3",
   "version": "3.7.7"
  }
 },
 "nbformat": 4,
 "nbformat_minor": 5
}
