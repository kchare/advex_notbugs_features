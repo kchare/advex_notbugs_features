{
 "cells": [
  {
   "cell_type": "markdown",
   "id": "730cd502",
   "metadata": {},
   "source": [
    "### References\n",
    "\n",
    "- https://adversarial-ml-tutorial.org/adversarial_examples/\n",
    "- https://arxiv.org/pdf/1905.02175.pdf"
   ]
  },
  {
   "cell_type": "code",
   "execution_count": 1,
   "id": "e7ad2cd0",
   "metadata": {},
   "outputs": [],
   "source": [
    "import tensorflow as tf\n",
    "from tensorflow import keras as K\n",
    "import tensorflow_datasets as tfds\n",
    "\n",
    "import numpy as np\n",
    "import scipy.stats as sp\n",
    "import matplotlib.pyplot as plt\n",
    "import pandas as pd\n",
    "import time"
   ]
  },
  {
   "cell_type": "code",
   "execution_count": 8,
   "id": "12a307b0",
   "metadata": {},
   "outputs": [],
   "source": [
    "def normalize(img, label):\n",
    "    return img / 255, label\n",
    "\n",
    "def make_tf_data(raw_ds):\n",
    "    ds = raw_ds.map(normalize)\n",
    "    return ds"
   ]
  },
  {
   "cell_type": "code",
   "execution_count": 9,
   "id": "97201c36",
   "metadata": {},
   "outputs": [],
   "source": [
    "def build_cnn_model(n_layers, n_filters, kernel_size=3, n_classes=10, model_name='basic_cnn'):\n",
    "    \"\"\"Builds basic CNN model for adversarial training; will need to be refactored\n",
    "    non-using default train setup\"\"\"\n",
    "    input_layer = tf.keras.layers.Input(shape=(28,28,1))\n",
    "    \n",
    "    # Add basic convolutional_layer\n",
    "    hidden = tf.keras.layers.Conv2D(n_filters, kernel_size=3, strides=2, activation = 'relu')(input_layer)\n",
    "    # Add single dense, non-linear layer\n",
    "    hidden = tf.keras.layers.Flatten()(hidden)\n",
    "    hidden = tf.keras.layers.Dense(16, activation = 'relu')(hidden)\n",
    "    output = tf.keras.layers.Dense(n_classes, activation='softmax')(hidden) # softmax since multiclass class. problem\n",
    "    \n",
    "    model = tf.keras.Model(inputs=input_layer, outputs=output)\n",
    "    return model"
   ]
  },
  {
   "cell_type": "code",
   "execution_count": 10,
   "id": "4c481223",
   "metadata": {},
   "outputs": [],
   "source": [
    "train_ds = tfds.load('mnist', split='train', shuffle_files=True, as_supervised=True, batch_size=32)\n",
    "test_ds = tfds.load('mnist', split='test', shuffle_files=True, as_supervised=True, batch_size=32)\n",
    "\n",
    "train_ds = make_tf_data(train_ds)\n",
    "test_ds = make_tf_data(test_ds)"
   ]
  },
  {
   "cell_type": "markdown",
   "id": "b68e79c0",
   "metadata": {},
   "source": [
    "### Train robust model resistant to FGSM attacks"
   ]
  },
  {
   "cell_type": "code",
   "execution_count": 11,
   "id": "953b8a1a",
   "metadata": {},
   "outputs": [],
   "source": [
    "@tf.function\n",
    "def fgsm_attack(model, X, y, epsilon=0.1):\n",
    "    delta = tf.zeros_like(X)\n",
    "    \n",
    "    # use GradientTape to perform autodiff\n",
    "    with tf.GradientTape() as tape:\n",
    "        # specifically 'watch' delta\n",
    "        # see here: https://www.tensorflow.org/guide/autodiff\n",
    "        tape.watch(delta)\n",
    "        loss = tf.keras.losses.SparseCategoricalCrossentropy()(y, model(X + delta))\n",
    "    delta = tf.sign(tape.gradient(loss, delta)) * epsilon\n",
    "    return delta"
   ]
  },
  {
   "cell_type": "code",
   "execution_count": 12,
   "id": "34190931",
   "metadata": {},
   "outputs": [],
   "source": [
    "@tf.function\n",
    "def onestep_pgd_linf(model, X, y, epsilon, alpha, delta):\n",
    "    with tf.GradientTape() as tape:\n",
    "        tape.watch(delta)\n",
    "        loss = tf.keras.losses.SparseCategoricalCrossentropy()(y, model(X + delta))\n",
    "\n",
    "    delta = tf.clip_by_value(delta + alpha*tf.sign(tape.gradient(loss, delta)), -epsilon, epsilon)\n",
    "    \n",
    "    return delta\n",
    "\n",
    "def pgd_linf(model, X, y, epsilon, alpha, num_iter):\n",
    "    \"\"\" Construct FGSM adversarial examples on the examples X\"\"\"\n",
    "    delta = tf.zeros_like(X)\n",
    "    for t in range(num_iter):\n",
    "        delta = onestep_pgd_linf(model, X, y, epsilon, alpha, delta)\n",
    "    return delta"
   ]
  },
  {
   "cell_type": "code",
   "execution_count": 28,
   "id": "500e900e",
   "metadata": {},
   "outputs": [],
   "source": [
    "def norm(Z):\n",
    "    \"\"\"Compute norms over all but the first dimension\"\"\"\n",
    "    return tf.norm(Z[0,:,:,:])\n",
    "\n",
    "# PGD L2 for Robustifying #\n",
    "def single_pgd_step_robust(model, X, y, alpha, delta):\n",
    "    with tf.GradientTape() as tape:\n",
    "        tape.watch(delta)\n",
    "        loss = tf.keras.losses.MeanSquaredError()(y, model(X + delta)) # comparing to robust model representation layer\n",
    "        \n",
    "    grad = tape.gradient(loss, delta)\n",
    "    delta -= alpha*grad / norm(grad) # normalized gradient step\n",
    "    delta = tf.math.minimum(tf.math.maximum(delta, -X), 1-X) # clip X+delta to [0,1]\n",
    "    \n",
    "    return delta, loss\n",
    "\n",
    "@tf.function\n",
    "def pgd_l2_robust(model, X, y, alpha, num_iter, bounded=False, epsilon=0, example=False):\n",
    "    delta = tf.zeros_like(X)\n",
    "    loss = 0\n",
    "    for t in range(num_iter):\n",
    "        delta, loss = single_pgd_step_robust(model, X, y, alpha, delta)\n",
    "        if bounded:\n",
    "            delta *= epsilon / tf.clip_by_value(norm(delta), epsilon, np.inf)\n",
    "            # No epsilon bound here\n",
    "    #         delta.data *= epsilon / norms(delta.detach()).clamp(min=epsilon) \n",
    "            # I think tensorflow does this automatically\n",
    "#             delta.grad.zero_()\n",
    "\n",
    "    if example:\n",
    "        print(loss)\n",
    "        print(f'{num_iter} iterations, final MSE {loss}')\n",
    "    return delta\n",
    "\n",
    "# PGD L2 for Adversarial Examples #\n",
    "def single_pgd_step_adv(model, X, y, alpha, epsilon, delta):\n",
    "    with tf.GradientTape() as tape:\n",
    "        tape.watch(delta)\n",
    "        loss = tf.keras.losses.SparseCategoricalCrossentropy()(y, model(X + delta)) # comparing to label for original data point\n",
    "\n",
    "    grad = tape.gradient(loss, delta)\n",
    "    delta += alpha*grad / norm(grad) # normalized gradient step\n",
    "    delta = tf.math.minimum(tf.math.maximum(delta, -X), 1-X) # clip X+delta to [0,1]\n",
    "    delta *= epsilon / tf.clip_by_value(norm(delta), epsilon, np.inf)\n",
    "    \n",
    "    return delta, loss\n",
    "\n",
    "@tf.function\n",
    "def pgd_l2_adv(model, X, y, alpha, num_iter, epsilon=0, example=False):\n",
    "    delta = tf.zeros_like(X)\n",
    "    loss = 0\n",
    "    for t in range(num_iter):\n",
    "        delta, loss = single_pgd_step_adv(model, X, y, alpha, epsilon, delta)\n",
    "        \n",
    "    if example:\n",
    "        print(f'{num_iter} iterations, final MSE {loss}')\n",
    "    return delta"
   ]
  },
  {
   "cell_type": "code",
   "execution_count": 18,
   "id": "b277046c",
   "metadata": {},
   "outputs": [
    {
     "name": "stderr",
     "output_type": "stream",
     "text": [
      "2021-12-01 13:06:40.079718: W tensorflow/core/kernels/data/cache_dataset_ops.cc:798] The calling iterator did not fully read the dataset being cached. In order to avoid unexpected truncation of the dataset, the partially cached contents of the dataset will be discarded. This can happen if you have an input pipeline similar to `dataset.cache().take(k).repeat()`. You should use `dataset.take(k).cache().repeat()` instead.\n"
     ]
    },
    {
     "data": {
      "text/plain": [
       "<matplotlib.image.AxesImage at 0x7f84598cce10>"
      ]
     },
     "execution_count": 18,
     "metadata": {},
     "output_type": "execute_result"
    },
    {
     "data": {
      "image/png": "[encoded data removed]",
      "text/plain": [
       "<Figure size 432x288 with 2 Axes>"
      ]
     },
     "metadata": {
      "needs_background": "light"
     },
     "output_type": "display_data"
    }
   ],
   "source": [
    "test_model = build_cnn_model(1, 32)\n",
    "for b in train_ds.unbatch():\n",
    "    X, y = b\n",
    "    X = tf.expand_dims(X, 0)\n",
    "    delta = fgsm_attack(test_model, X, y, 0.02)\n",
    "    Xd = X + delta\n",
    "    break\n",
    "fig, axs = plt.subplots(2)\n",
    "axs[0].imshow(np.squeeze(X))\n",
    "axs[1].imshow(np.squeeze(Xd))"
   ]
  },
  {
   "cell_type": "code",
   "execution_count": 30,
   "id": "71ac873b",
   "metadata": {},
   "outputs": [
    {
     "data": {
      "text/plain": [
       "<matplotlib.image.AxesImage at 0x7fc003c45710>"
      ]
     },
     "execution_count": 30,
     "metadata": {},
     "output_type": "execute_result"
    },
    {
     "data": {
      "image/png": "[encoded data removed]",
      "text/plain": [
       "<Figure size 432x288 with 2 Axes>"
      ]
     },
     "metadata": {
      "needs_background": "light"
     },
     "output_type": "display_data"
    }
   ],
   "source": [
    "test_model = build_cnn_model(1, 32)\n",
    "for b in train_ds.unbatch():\n",
    "    X, y = b\n",
    "    X = tf.expand_dims(X, 0)\n",
    "    delta = pgd_l2_adv(test_model, X, y, epsilon=0.5, alpha=0.1, num_iter=50)\n",
    "#     delta = pgd_linf(test_model, X, y, epsilon=0.1, alpha=1e-2, num_iter=50)\n",
    "\n",
    "    Xd = X + delta\n",
    "    break\n",
    "fig, axs = plt.subplots(2)\n",
    "axs[0].imshow(np.squeeze(X))\n",
    "axs[1].imshow(np.squeeze(Xd))"
   ]
  },
  {
   "cell_type": "markdown",
   "id": "92d06351",
   "metadata": {},
   "source": [
    "## Standard training with adversary in test"
   ]
  },
  {
   "cell_type": "code",
   "execution_count": 31,
   "id": "5a013ac3",
   "metadata": {},
   "outputs": [
    {
     "name": "stdout",
     "output_type": "stream",
     "text": [
      "Epoch 0/5, Time: 29.21 -- Train Loss: 0.29, Train Acc: 0.91, Test Loss: 24.55, Test Acc: 0.48\n",
      "Epoch 1/5, Time: 20.57 -- Train Loss: 0.11, Train Acc: 0.97, Test Loss: 29.96, Test Acc: 0.49\n",
      "Epoch 2/5, Time: 20.03 -- Train Loss: 0.08, Train Acc: 0.98, Test Loss: 34.71, Test Acc: 0.49\n",
      "Epoch 3/5, Time: 21.22 -- Train Loss: 0.06, Train Acc: 0.98, Test Loss: 39.60, Test Acc: 0.50\n",
      "Epoch 4/5, Time: 20.49 -- Train Loss: 0.05, Train Acc: 0.99, Test Loss: 44.43, Test Acc: 0.50\n"
     ]
    }
   ],
   "source": [
    "EPOCHS = 5\n",
    "\n",
    "# Build model again, leaving out summary\n",
    "model = build_cnn_model(1, 32)\n",
    "\n",
    "model.compile(\n",
    "    optimizer = tf.keras.optimizers.Adam(),\n",
    "    loss = tf.keras.losses.SparseCategoricalCrossentropy(),\n",
    "    metrics = ['accuracy']\n",
    ")\n",
    "\n",
    "for n in range(EPOCHS):\n",
    "    \n",
    "    t = time.time()\n",
    "    train_losses = []\n",
    "    train_accs = []\n",
    "    for b in train_ds:\n",
    "        X, y = b\n",
    "\n",
    "        l, acc = model.train_on_batch(X, y)\n",
    "        train_losses.append(l)\n",
    "        train_accs.append(acc)\n",
    "\n",
    "    test_losses = []\n",
    "    test_accs = []\n",
    "    for vb in test_ds:\n",
    "        Xtest, ytest = vb\n",
    "        \n",
    "        # Apply attack to get delta\n",
    "        # Importantly, only attack at test time rather than during training\n",
    "#         delta = fgsm_attack(model, Xtest, ytest)\n",
    "#         delta = pgd_linf(model, Xtest, ytest, epsilon=0.1, alpha=1e-1, num_iter=40)\n",
    "        delta = pgd_l2_adv(model, Xtest, ytest, epsilon=0.5, alpha=0.1, num_iter=50)\n",
    "        Xdtest = Xtest + delta\n",
    "        \n",
    "        l, acc = model.test_on_batch(Xdtest, ytest)\n",
    "        test_losses.append(l)\n",
    "        test_accs.append(acc)\n",
    "    \n",
    "    train_loss = sum(train_losses) / len(train_losses)\n",
    "    train_acc = sum(train_accs) / len(train_accs)\n",
    "    \n",
    "    test_loss = sum(test_losses) / len(test_losses)\n",
    "    test_acc = sum(test_accs) / len(test_accs)\n",
    "        \n",
    "    print(f\"Epoch {n}/{EPOCHS}, Time: {(time.time()-t):0.2f} -- Train Loss: {train_loss:0.2f}, \\\n",
    "Train Acc: {train_acc:0.2f}, Test Loss: {test_loss:0.2f}, Test Acc: {test_acc:0.2f}\")"
   ]
  },
  {
   "cell_type": "markdown",
   "id": "600c5aae",
   "metadata": {},
   "source": [
    "## Train Robust Model (adversaries in training)"
   ]
  },
  {
   "cell_type": "code",
   "execution_count": 32,
   "id": "7f4071b0",
   "metadata": {},
   "outputs": [
    {
     "name": "stdout",
     "output_type": "stream",
     "text": [
      "Epoch 0/5, Time: 68.08 -- Train Loss: 1.35, Train Acc: 0.66, Test Loss: 0.53, Test Acc: 0.92\n",
      "Epoch 1/5, Time: 69.47 -- Train Loss: 1.23, Train Acc: 0.71, Test Loss: 0.50, Test Acc: 0.93\n",
      "Epoch 2/5, Time: 67.97 -- Train Loss: 1.21, Train Acc: 0.71, Test Loss: 0.48, Test Acc: 0.93\n",
      "Epoch 3/5, Time: 65.55 -- Train Loss: 1.19, Train Acc: 0.72, Test Loss: 0.46, Test Acc: 0.93\n",
      "Epoch 4/5, Time: 64.16 -- Train Loss: 1.18, Train Acc: 0.72, Test Loss: 0.45, Test Acc: 0.94\n"
     ]
    }
   ],
   "source": [
    "EPOCHS = 5\n",
    "\n",
    "# Build model again, leaving out summary\n",
    "robust_model = build_cnn_model(1, 32)\n",
    "\n",
    "robust_model.compile(\n",
    "    optimizer = tf.keras.optimizers.Adam(),\n",
    "    loss = tf.keras.losses.SparseCategoricalCrossentropy(),\n",
    "    metrics = ['accuracy']\n",
    ")\n",
    "\n",
    "for n in range(EPOCHS):\n",
    "    t = time.time()\n",
    "    train_losses = []\n",
    "    train_accs = []\n",
    "    for b in train_ds:\n",
    "        X, y = b\n",
    "        \n",
    "        # Apply attack during training as well as testing\n",
    "#         delta = fgsm_attack(robust_model, X, y, 0.02)\n",
    "        delta = pgd_l2_adv(robust_model, X, y, epsilon=0.5, alpha=1e-1, num_iter=50)\n",
    "#         delta = pgd_linf(robust_model, X, y, epsilon=0.1, alpha=1e-1, num_iter=40)\n",
    "        Xd = X + delta\n",
    "\n",
    "        l, acc = robust_model.train_on_batch(Xd, y)\n",
    "        train_losses.append(l)\n",
    "        train_accs.append(acc)\n",
    "\n",
    "    test_losses = []\n",
    "    test_accs = []\n",
    "    for vb in test_ds:\n",
    "        Xtest, ytest = vb\n",
    "        \n",
    "        # Apply attack to get delta\n",
    "        # Importantly, only attack at test time rather than during training\n",
    "        #delta = fgsm_attack(model, Xtest, ytest)\n",
    "        Xdtest = Xtest #+ delta\n",
    "        \n",
    "        l, acc = robust_model.test_on_batch(Xdtest, ytest)\n",
    "        test_losses.append(l)\n",
    "        test_accs.append(acc)\n",
    "    \n",
    "    train_loss = sum(train_losses) / len(train_losses)\n",
    "    train_acc = sum(train_accs) / len(train_accs)\n",
    "    \n",
    "    test_loss = sum(test_losses) / len(test_losses)\n",
    "    test_acc = sum(test_accs) / len(test_accs)\n",
    "        \n",
    "    print(f\"Epoch {n}/{EPOCHS}, Time: {(time.time()-t):0.2f} -- Train Loss: {train_loss:0.2f}, \\\n",
    "Train Acc: {train_acc:0.2f}, Test Loss: {test_loss:0.2f}, Test Acc: {test_acc:0.2f}\")"
   ]
  },
  {
   "cell_type": "markdown",
   "id": "e35b2c7b",
   "metadata": {},
   "source": [
    "## Generate robust version of original data"
   ]
  },
  {
   "cell_type": "markdown",
   "id": "6ff02734",
   "metadata": {},
   "source": [
    "Use robust NN to create a robustifier"
   ]
  },
  {
   "cell_type": "code",
   "execution_count": 37,
   "id": "4ec23269",
   "metadata": {},
   "outputs": [],
   "source": [
    "# Grab representation layer from robust model\n",
    "representation = robust_model.layers[-2]\n",
    "robustifier = tf.keras.Model(inputs = robust_model.input, outputs = representation.output)"
   ]
  },
  {
   "cell_type": "code",
   "execution_count": 38,
   "id": "ddff9dad",
   "metadata": {},
   "outputs": [],
   "source": [
    "unbatched_train = train_ds.unbatch()"
   ]
  },
  {
   "cell_type": "code",
   "execution_count": 39,
   "id": "6f48232e",
   "metadata": {},
   "outputs": [],
   "source": [
    "last_img = list(unbatched_train.as_numpy_iterator())[-1][0]"
   ]
  },
  {
   "cell_type": "code",
   "execution_count": 40,
   "id": "50690ade",
   "metadata": {
    "scrolled": true
   },
   "outputs": [
    {
     "name": "stdout",
     "output_type": "stream",
     "text": [
      "WARNING:tensorflow:6 out of the last 6 calls to <function pgd_l2_robust at 0x7fc01e0680e0> triggered tf.function retracing. Tracing is expensive and the excessive number of tracings could be due to (1) creating @tf.function repeatedly in a loop, (2) passing tensors with different shapes, (3) passing Python objects instead of tensors. For (1), please define your @tf.function outside of the loop. For (2), @tf.function has experimental_relax_shapes=True option that relaxes argument shapes that can avoid unnecessary retracing. For (3), please refer to https://www.tensorflow.org/tutorials/customization/performance#python_or_tensor_args and https://www.tensorflow.org/api_docs/python/tf/function for  more details.\n"
     ]
    },
    {
     "name": "stderr",
     "output_type": "stream",
     "text": [
      "WARNING:tensorflow:6 out of the last 6 calls to <function pgd_l2_robust at 0x7fc01e0680e0> triggered tf.function retracing. Tracing is expensive and the excessive number of tracings could be due to (1) creating @tf.function repeatedly in a loop, (2) passing tensors with different shapes, (3) passing Python objects instead of tensors. For (1), please define your @tf.function outside of the loop. For (2), @tf.function has experimental_relax_shapes=True option that relaxes argument shapes that can avoid unnecessary retracing. For (3), please refer to https://www.tensorflow.org/tutorials/customization/performance#python_or_tensor_args and https://www.tensorflow.org/api_docs/python/tf/function for  more details.\n"
     ]
    },
    {
     "name": "stdout",
     "output_type": "stream",
     "text": [
      "Robustified 0 images in 9.128 seconds\n",
      "Robustified 1000 images in 9.596 seconds\n",
      "Robustified 2000 images in 9.142 seconds\n",
      "Robustified 3000 images in 10.054 seconds\n",
      "Robustified 4000 images in 9.471 seconds\n",
      "Robustified 5000 images in 9.065 seconds\n",
      "Robustified 6000 images in 9.082 seconds\n",
      "Robustified 7000 images in 8.793 seconds\n",
      "Robustified 8000 images in 8.955 seconds\n",
      "Robustified 9000 images in 8.830 seconds\n",
      "Robustified 10000 images in 8.753 seconds\n",
      "Robustified 11000 images in 8.286 seconds\n",
      "Robustified 12000 images in 8.497 seconds\n",
      "Robustified 13000 images in 8.611 seconds\n",
      "Robustified 14000 images in 8.930 seconds\n",
      "Robustified 15000 images in 8.589 seconds\n",
      "Robustified 16000 images in 8.527 seconds\n",
      "Robustified 17000 images in 8.867 seconds\n",
      "Robustified 18000 images in 8.802 seconds\n",
      "Robustified 19000 images in 8.529 seconds\n",
      "Robustified 20000 images in 8.777 seconds\n",
      "Robustified 21000 images in 8.650 seconds\n",
      "Robustified 22000 images in 8.417 seconds\n",
      "Robustified 23000 images in 8.402 seconds\n",
      "Robustified 24000 images in 8.351 seconds\n",
      "Robustified 25000 images in 8.435 seconds\n",
      "Robustified 26000 images in 8.321 seconds\n",
      "Robustified 27000 images in 8.378 seconds\n",
      "Robustified 28000 images in 8.641 seconds\n",
      "Robustified 29000 images in 9.061 seconds\n",
      "Robustified 30000 images in 8.614 seconds\n",
      "Robustified 31000 images in 8.461 seconds\n",
      "Robustified 32000 images in 8.882 seconds\n",
      "Robustified 33000 images in 8.373 seconds\n",
      "Robustified 34000 images in 8.365 seconds\n",
      "Robustified 35000 images in 8.627 seconds\n",
      "Robustified 36000 images in 8.766 seconds\n",
      "Robustified 37000 images in 8.704 seconds\n",
      "Robustified 38000 images in 8.370 seconds\n",
      "Robustified 39000 images in 8.452 seconds\n",
      "Robustified 40000 images in 8.860 seconds\n",
      "Robustified 41000 images in 8.523 seconds\n",
      "Robustified 42000 images in 8.480 seconds\n",
      "Robustified 43000 images in 8.389 seconds\n",
      "Robustified 44000 images in 8.826 seconds\n",
      "Robustified 45000 images in 8.360 seconds\n",
      "Robustified 46000 images in 8.395 seconds\n",
      "Robustified 47000 images in 8.974 seconds\n",
      "Robustified 48000 images in 8.994 seconds\n",
      "Robustified 49000 images in 8.942 seconds\n",
      "Robustified 50000 images in 8.582 seconds\n",
      "Robustified 51000 images in 8.556 seconds\n",
      "Robustified 52000 images in 8.942 seconds\n",
      "Robustified 53000 images in 8.944 seconds\n",
      "Robustified 54000 images in 8.858 seconds\n",
      "Robustified 55000 images in 8.407 seconds\n",
      "Robustified 56000 images in 8.352 seconds\n",
      "Robustified 57000 images in 8.364 seconds\n",
      "Robustified 58000 images in 8.337 seconds\n",
      "Robustified 59000 images in 8.527 seconds\n"
     ]
    }
   ],
   "source": [
    "robust_train = []\n",
    "orig_labels = []\n",
    "iters = 100\n",
    "example = False\n",
    "# initialize random image as last image in dataset\n",
    "rand_img = last_img\n",
    "rand_img = tf.expand_dims(rand_img, axis=0)\n",
    "\n",
    "start_time = time.time()\n",
    "for i, (img, label) in enumerate(unbatched_train):\n",
    "    # data point we want to get robust features for\n",
    "    curr_img = tf.expand_dims(img, axis=0)\n",
    "    goal_representation = robustifier(curr_img)\n",
    "    \n",
    "    \n",
    "    learned_delta = pgd_l2_robust(robustifier, rand_img, goal_representation, alpha=0.1, num_iter=iters)\n",
    "    robust_update = (rand_img + learned_delta)[0,:,:,:] # trim off first dim\n",
    "    robust_train.append(robust_update)\n",
    "    orig_labels.append(label)\n",
    "    \n",
    "    if i%1000 == 0:\n",
    "        elapsed = time.time() - start_time\n",
    "        print(f'Robustified {i} images in {elapsed:0.3f} seconds')\n",
    "        start_time = time.time()\n",
    "    \n",
    "    # reset random image to be previous image\n",
    "    rand_img = curr_img.numpy()"
   ]
  },
  {
   "cell_type": "markdown",
   "id": "90ee4b3b",
   "metadata": {},
   "source": [
    "### Aside to see adversarial examples"
   ]
  },
  {
   "cell_type": "code",
   "execution_count": 36,
   "id": "d70e42a3",
   "metadata": {},
   "outputs": [
    {
     "name": "stdout",
     "output_type": "stream",
     "text": [
      "Tensor(\"mean_squared_error/weighted_loss/value:0\", shape=(), dtype=float32)\n",
      "1 iterations, final MSE Tensor(\"mean_squared_error/weighted_loss/value:0\", shape=(), dtype=float32)\n",
      "Tensor(\"mean_squared_error_1/weighted_loss/value:0\", shape=(), dtype=float32)\n",
      "2 iterations, final MSE Tensor(\"mean_squared_error_1/weighted_loss/value:0\", shape=(), dtype=float32)\n",
      "Tensor(\"mean_squared_error_49/weighted_loss/value:0\", shape=(), dtype=float32)\n",
      "50 iterations, final MSE Tensor(\"mean_squared_error_49/weighted_loss/value:0\", shape=(), dtype=float32)\n",
      "Tensor(\"mean_squared_error_99/weighted_loss/value:0\", shape=(), dtype=float32)\n",
      "100 iterations, final MSE Tensor(\"mean_squared_error_99/weighted_loss/value:0\", shape=(), dtype=float32)\n",
      "Tensor(\"mean_squared_error_999/weighted_loss/value:0\", shape=(), dtype=float32)\n",
      "1000 iterations, final MSE Tensor(\"mean_squared_error_999/weighted_loss/value:0\", shape=(), dtype=float32)\n",
      "WARNING:tensorflow:5 out of the last 5 calls to <function pgd_l2_robust at 0x7fc01e0680e0> triggered tf.function retracing. Tracing is expensive and the excessive number of tracings could be due to (1) creating @tf.function repeatedly in a loop, (2) passing tensors with different shapes, (3) passing Python objects instead of tensors. For (1), please define your @tf.function outside of the loop. For (2), @tf.function has experimental_relax_shapes=True option that relaxes argument shapes that can avoid unnecessary retracing. For (3), please refer to https://www.tensorflow.org/tutorials/customization/performance#python_or_tensor_args and https://www.tensorflow.org/api_docs/python/tf/function for  more details.\n"
     ]
    },
    {
     "name": "stderr",
     "output_type": "stream",
     "text": [
      "WARNING:tensorflow:5 out of the last 5 calls to <function pgd_l2_robust at 0x7fc01e0680e0> triggered tf.function retracing. Tracing is expensive and the excessive number of tracings could be due to (1) creating @tf.function repeatedly in a loop, (2) passing tensors with different shapes, (3) passing Python objects instead of tensors. For (1), please define your @tf.function outside of the loop. For (2), @tf.function has experimental_relax_shapes=True option that relaxes argument shapes that can avoid unnecessary retracing. For (3), please refer to https://www.tensorflow.org/tutorials/customization/performance#python_or_tensor_args and https://www.tensorflow.org/api_docs/python/tf/function for  more details.\n"
     ]
    },
    {
     "data": {
      "image/png": "[encoded data removed]",
      "text/plain": [
       "<Figure size 360x360 with 2 Axes>"
      ]
     },
     "metadata": {
      "needs_background": "light"
     },
     "output_type": "display_data"
    },
    {
     "data": {
      "image/png": "[encoded data removed]",
      "text/plain": [
       "<Figure size 1440x1440 with 10 Axes>"
      ]
     },
     "metadata": {
      "needs_background": "light"
     },
     "output_type": "display_data"
    }
   ],
   "source": [
    "example = True\n",
    "for img, label in unbatched_train:\n",
    "    # data point we want to get robust features for\n",
    "    curr_img = tf.expand_dims(img, axis=0)\n",
    "    goal_representation = robustifier(curr_img)\n",
    "    \n",
    "    # starting point for PGD is another point in the dataset\n",
    "    rand_img = next(unbatched_train.shuffle(int(1e6)).take(1).as_numpy_iterator())[0]\n",
    "    rand_img = tf.expand_dims(rand_img, axis=0)\n",
    "    \n",
    "    fig, starts = plt.subplots(1,2,figsize=(5,5))\n",
    "    starts = starts.flatten()\n",
    "    starts[0].imshow(rand_img[0,:,:,:].numpy())\n",
    "    starts[0].set_title('Random Initialization')\n",
    "    starts[1].imshow(curr_img[0,:,:,:])\n",
    "    starts[1].set_title('Target Image')\n",
    "    \n",
    "    fig, axs = plt.subplots(5, 2, figsize=(20,20))\n",
    "    for i, iters in enumerate([1,2,50,100,1000]):\n",
    "        learned_delta = pgd_l2_robust(robustifier, rand_img, goal_representation, alpha=0.1, num_iter=iters, example=True)\n",
    "        robust_update = (rand_img + learned_delta)[0,:,:,:] # trim off first dim\n",
    "    \n",
    "        axs[i][0].imshow(robust_update)\n",
    "        axs[i][0].set_title(f'Updated Image (iters={iters})')\n",
    "        axs[i][1].imshow(learned_delta[0,:,:,:])\n",
    "        axs[i][1].set_title(f'Delta (iters={iters})')\n",
    "        \n",
    "    break"
   ]
  },
  {
   "cell_type": "markdown",
   "id": "5f133883",
   "metadata": {},
   "source": [
    "## Try training on robust data set and testing with adversarial examples"
   ]
  },
  {
   "cell_type": "code",
   "execution_count": 41,
   "id": "f076f339",
   "metadata": {},
   "outputs": [
    {
     "data": {
      "text/plain": [
       "5"
      ]
     },
     "execution_count": 41,
     "metadata": {},
     "output_type": "execute_result"
    }
   ],
   "source": [
    "orig_labels[-10].numpy()"
   ]
  },
  {
   "cell_type": "code",
   "execution_count": 42,
   "id": "d5dd07a9",
   "metadata": {},
   "outputs": [
    {
     "data": {
      "text/plain": [
       "<matplotlib.image.AxesImage at 0x7fc01cb169d0>"
      ]
     },
     "execution_count": 42,
     "metadata": {},
     "output_type": "execute_result"
    },
    {
     "data": {
      "image/png": "[encoded data removed]",
      "text/plain": [
       "<Figure size 432x288 with 1 Axes>"
      ]
     },
     "metadata": {
      "needs_background": "light"
     },
     "output_type": "display_data"
    }
   ],
   "source": [
    "plt.imshow(robust_train[-10].numpy())"
   ]
  },
  {
   "cell_type": "code",
   "execution_count": 43,
   "id": "2568d597",
   "metadata": {},
   "outputs": [],
   "source": [
    "robust_ds = tf.data.Dataset.from_tensor_slices((robust_train, orig_labels)).batch(32)"
   ]
  },
  {
   "cell_type": "code",
   "execution_count": 44,
   "id": "40d723f8",
   "metadata": {},
   "outputs": [
    {
     "name": "stdout",
     "output_type": "stream",
     "text": [
      "Epoch 0/5, Time: 27.51 -- Train Loss: 0.37, Train Acc: 0.89, Test Loss: 15.94, Test Acc: 0.48\n",
      "Epoch 1/5, Time: 18.75 -- Train Loss: 0.24, Train Acc: 0.93, Test Loss: 18.08, Test Acc: 0.49\n",
      "Epoch 2/5, Time: 18.84 -- Train Loss: 0.22, Train Acc: 0.93, Test Loss: 20.96, Test Acc: 0.49\n",
      "Epoch 3/5, Time: 18.95 -- Train Loss: 0.20, Train Acc: 0.94, Test Loss: 24.33, Test Acc: 0.48\n",
      "Epoch 4/5, Time: 20.08 -- Train Loss: 0.19, Train Acc: 0.94, Test Loss: 27.85, Test Acc: 0.48\n"
     ]
    }
   ],
   "source": [
    "EPOCHS = 5\n",
    "\n",
    "# Build model again, leaving out summary\n",
    "model = build_cnn_model(1, 32)\n",
    "\n",
    "model.compile(\n",
    "    optimizer = tf.keras.optimizers.Adam(),\n",
    "    loss = tf.keras.losses.SparseCategoricalCrossentropy(),\n",
    "    metrics = ['accuracy']\n",
    ")\n",
    "\n",
    "for n in range(EPOCHS):\n",
    "    \n",
    "    t = time.time()\n",
    "    train_losses = []\n",
    "    train_accs = []\n",
    "    for b in robust_ds:\n",
    "        X, y = b\n",
    "\n",
    "        l, acc = model.train_on_batch(X, y)\n",
    "        train_losses.append(l)\n",
    "        train_accs.append(acc)\n",
    "\n",
    "    test_losses = []\n",
    "    test_accs = []\n",
    "    for vb in test_ds:\n",
    "        Xtest, ytest = vb\n",
    "        \n",
    "        # Apply attack to get delta\n",
    "        # Importantly, only attack at test time rather than during training\n",
    "#         delta = fgsm_attack(model, Xtest, ytest)\n",
    "        delta = pgd_l2_adv(model, Xtest, ytest, epsilon=0.5, alpha=1e-1, num_iter=50)\n",
    "        Xdtest = Xtest + delta\n",
    "        \n",
    "        l, acc = model.test_on_batch(Xdtest, ytest)\n",
    "        test_losses.append(l)\n",
    "        test_accs.append(acc)\n",
    "    \n",
    "    train_loss = sum(train_losses) / len(train_losses)\n",
    "    train_acc = sum(train_accs) / len(train_accs)\n",
    "    \n",
    "    test_loss = sum(test_losses) / len(test_losses)\n",
    "    test_acc = sum(test_accs) / len(test_accs)\n",
    "        \n",
    "    print(f\"Epoch {n}/{EPOCHS}, Time: {(time.time()-t):0.2f} -- Train Loss: {train_loss:0.2f}, \\\n",
    "Train Acc: {train_acc:0.2f}, Test Loss: {test_loss:0.2f}, Test Acc: {test_acc:0.2f}\")"
   ]
  },
  {
   "cell_type": "code",
   "execution_count": null,
   "id": "87703dfe",
   "metadata": {},
   "outputs": [],
   "source": []
  }
 ],
 "metadata": {
  "kernelspec": {
   "display_name": "Python 3 (ipykernel)",
   "language": "python",
   "name": "python3"
  },
  "language_info": {
   "codemirror_mode": {
    "name": "ipython",
    "version": 3
   },
   "file_extension": ".py",
   "mimetype": "text/x-python",
   "name": "python",
   "nbconvert_exporter": "python",
   "pygments_lexer": "ipython3",
   "version": "3.7.7"
  }
 },
 "nbformat": 4,
 "nbformat_minor": 5
}
