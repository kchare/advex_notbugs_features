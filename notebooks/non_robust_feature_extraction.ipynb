{
  "nbformat": 4,
  "nbformat_minor": 5,
  "metadata": {
    "accelerator": "GPU",
    "colab": {
      "name": "non_robust_dataset.ipynb",
      "provenance": [],
      "collapsed_sections": []
    },
    "kernelspec": {
      "display_name": "Python 3 (ipykernel)",
      "language": "python",
      "name": "python3"
    },
    "language_info": {
      "codemirror_mode": {
        "name": "ipython",
        "version": 3
      },
      "file_extension": ".py",
      "mimetype": "text/x-python",
      "name": "python",
      "nbconvert_exporter": "python",
      "pygments_lexer": "ipython3",
      "version": "3.8.5"
    },
    "widgets": {
      "application/vnd.jupyter.widget-state+json": {
        "1859ec790f6941d086f6e2a339aa2599": {
          "model_module": "@jupyter-widgets/controls",
          "model_name": "HBoxModel",
          "model_module_version": "1.5.0",
          "state": {
            "_view_name": "HBoxView",
            "_dom_classes": [],
            "_model_name": "HBoxModel",
            "_view_module": "@jupyter-widgets/controls",
            "_model_module_version": "1.5.0",
            "_view_count": null,
            "_view_module_version": "1.5.0",
            "box_style": "",
            "layout": "IPY_MODEL_76360b5b49314dda9e5b3ba5c8a29b91",
            "_model_module": "@jupyter-widgets/controls",
            "children": [
              "IPY_MODEL_3c1102b266b34c8fbfd5362a0d3f126e",
              "IPY_MODEL_4be797953a1b4709811879c881694df0",
              "IPY_MODEL_8817ef7f24b247c5bd402a1e9e2b4207"
            ]
          }
        },
        "76360b5b49314dda9e5b3ba5c8a29b91": {
          "model_module": "@jupyter-widgets/base",
          "model_name": "LayoutModel",
          "model_module_version": "1.2.0",
          "state": {
            "_view_name": "LayoutView",
            "grid_template_rows": null,
            "right": null,
            "justify_content": null,
            "_view_module": "@jupyter-widgets/base",
            "overflow": null,
            "_model_module_version": "1.2.0",
            "_view_count": null,
            "flex_flow": null,
            "width": null,
            "min_width": null,
            "border": null,
            "align_items": null,
            "bottom": null,
            "_model_module": "@jupyter-widgets/base",
            "top": null,
            "grid_column": null,
            "overflow_y": null,
            "overflow_x": null,
            "grid_auto_flow": null,
            "grid_area": null,
            "grid_template_columns": null,
            "flex": null,
            "_model_name": "LayoutModel",
            "justify_items": null,
            "grid_row": null,
            "max_height": null,
            "align_content": null,
            "visibility": null,
            "align_self": null,
            "height": null,
            "min_height": null,
            "padding": null,
            "grid_auto_rows": null,
            "grid_gap": null,
            "max_width": null,
            "order": null,
            "_view_module_version": "1.2.0",
            "grid_template_areas": null,
            "object_position": null,
            "object_fit": null,
            "grid_auto_columns": null,
            "margin": null,
            "display": null,
            "left": null
          }
        },
        "3c1102b266b34c8fbfd5362a0d3f126e": {
          "model_module": "@jupyter-widgets/controls",
          "model_name": "HTMLModel",
          "model_module_version": "1.5.0",
          "state": {
            "_view_name": "HTMLView",
            "style": "IPY_MODEL_08c4403342ff4addaff12b2eb44191ca",
            "_dom_classes": [],
            "description": "",
            "_model_name": "HTMLModel",
            "placeholder": "​",
            "_view_module": "@jupyter-widgets/controls",
            "_model_module_version": "1.5.0",
            "value": "Dl Completed...: 100%",
            "_view_count": null,
            "_view_module_version": "1.5.0",
            "description_tooltip": null,
            "_model_module": "@jupyter-widgets/controls",
            "layout": "IPY_MODEL_0fa4b9dc64214c079accc6f04fc8f09b"
          }
        },
        "4be797953a1b4709811879c881694df0": {
          "model_module": "@jupyter-widgets/controls",
          "model_name": "FloatProgressModel",
          "model_module_version": "1.5.0",
          "state": {
            "_view_name": "ProgressView",
            "style": "IPY_MODEL_5a68219c7b57460aa9833bf4cdf159d8",
            "_dom_classes": [],
            "description": "",
            "_model_name": "FloatProgressModel",
            "bar_style": "success",
            "max": 4,
            "_view_module": "@jupyter-widgets/controls",
            "_model_module_version": "1.5.0",
            "value": 4,
            "_view_count": null,
            "_view_module_version": "1.5.0",
            "orientation": "horizontal",
            "min": 0,
            "description_tooltip": null,
            "_model_module": "@jupyter-widgets/controls",
            "layout": "IPY_MODEL_66dc8502092c402098b1f73e268a3204"
          }
        },
        "8817ef7f24b247c5bd402a1e9e2b4207": {
          "model_module": "@jupyter-widgets/controls",
          "model_name": "HTMLModel",
          "model_module_version": "1.5.0",
          "state": {
            "_view_name": "HTMLView",
            "style": "IPY_MODEL_db6457f4ee884b22878f1fa60d34e848",
            "_dom_classes": [],
            "description": "",
            "_model_name": "HTMLModel",
            "placeholder": "​",
            "_view_module": "@jupyter-widgets/controls",
            "_model_module_version": "1.5.0",
            "value": " 4/4 [00:00&lt;00:00,  5.90 file/s]",
            "_view_count": null,
            "_view_module_version": "1.5.0",
            "description_tooltip": null,
            "_model_module": "@jupyter-widgets/controls",
            "layout": "IPY_MODEL_7b677c7ac420455cb5fe57bcbc11acee"
          }
        },
        "08c4403342ff4addaff12b2eb44191ca": {
          "model_module": "@jupyter-widgets/controls",
          "model_name": "DescriptionStyleModel",
          "model_module_version": "1.5.0",
          "state": {
            "_view_name": "StyleView",
            "_model_name": "DescriptionStyleModel",
            "description_width": "",
            "_view_module": "@jupyter-widgets/base",
            "_model_module_version": "1.5.0",
            "_view_count": null,
            "_view_module_version": "1.2.0",
            "_model_module": "@jupyter-widgets/controls"
          }
        },
        "0fa4b9dc64214c079accc6f04fc8f09b": {
          "model_module": "@jupyter-widgets/base",
          "model_name": "LayoutModel",
          "model_module_version": "1.2.0",
          "state": {
            "_view_name": "LayoutView",
            "grid_template_rows": null,
            "right": null,
            "justify_content": null,
            "_view_module": "@jupyter-widgets/base",
            "overflow": null,
            "_model_module_version": "1.2.0",
            "_view_count": null,
            "flex_flow": null,
            "width": null,
            "min_width": null,
            "border": null,
            "align_items": null,
            "bottom": null,
            "_model_module": "@jupyter-widgets/base",
            "top": null,
            "grid_column": null,
            "overflow_y": null,
            "overflow_x": null,
            "grid_auto_flow": null,
            "grid_area": null,
            "grid_template_columns": null,
            "flex": null,
            "_model_name": "LayoutModel",
            "justify_items": null,
            "grid_row": null,
            "max_height": null,
            "align_content": null,
            "visibility": null,
            "align_self": null,
            "height": null,
            "min_height": null,
            "padding": null,
            "grid_auto_rows": null,
            "grid_gap": null,
            "max_width": null,
            "order": null,
            "_view_module_version": "1.2.0",
            "grid_template_areas": null,
            "object_position": null,
            "object_fit": null,
            "grid_auto_columns": null,
            "margin": null,
            "display": null,
            "left": null
          }
        },
        "5a68219c7b57460aa9833bf4cdf159d8": {
          "model_module": "@jupyter-widgets/controls",
          "model_name": "ProgressStyleModel",
          "model_module_version": "1.5.0",
          "state": {
            "_view_name": "StyleView",
            "_model_name": "ProgressStyleModel",
            "description_width": "",
            "_view_module": "@jupyter-widgets/base",
            "_model_module_version": "1.5.0",
            "_view_count": null,
            "_view_module_version": "1.2.0",
            "bar_color": null,
            "_model_module": "@jupyter-widgets/controls"
          }
        },
        "66dc8502092c402098b1f73e268a3204": {
          "model_module": "@jupyter-widgets/base",
          "model_name": "LayoutModel",
          "model_module_version": "1.2.0",
          "state": {
            "_view_name": "LayoutView",
            "grid_template_rows": null,
            "right": null,
            "justify_content": null,
            "_view_module": "@jupyter-widgets/base",
            "overflow": null,
            "_model_module_version": "1.2.0",
            "_view_count": null,
            "flex_flow": null,
            "width": null,
            "min_width": null,
            "border": null,
            "align_items": null,
            "bottom": null,
            "_model_module": "@jupyter-widgets/base",
            "top": null,
            "grid_column": null,
            "overflow_y": null,
            "overflow_x": null,
            "grid_auto_flow": null,
            "grid_area": null,
            "grid_template_columns": null,
            "flex": null,
            "_model_name": "LayoutModel",
            "justify_items": null,
            "grid_row": null,
            "max_height": null,
            "align_content": null,
            "visibility": null,
            "align_self": null,
            "height": null,
            "min_height": null,
            "padding": null,
            "grid_auto_rows": null,
            "grid_gap": null,
            "max_width": null,
            "order": null,
            "_view_module_version": "1.2.0",
            "grid_template_areas": null,
            "object_position": null,
            "object_fit": null,
            "grid_auto_columns": null,
            "margin": null,
            "display": null,
            "left": null
          }
        },
        "db6457f4ee884b22878f1fa60d34e848": {
          "model_module": "@jupyter-widgets/controls",
          "model_name": "DescriptionStyleModel",
          "model_module_version": "1.5.0",
          "state": {
            "_view_name": "StyleView",
            "_model_name": "DescriptionStyleModel",
            "description_width": "",
            "_view_module": "@jupyter-widgets/base",
            "_model_module_version": "1.5.0",
            "_view_count": null,
            "_view_module_version": "1.2.0",
            "_model_module": "@jupyter-widgets/controls"
          }
        },
        "7b677c7ac420455cb5fe57bcbc11acee": {
          "model_module": "@jupyter-widgets/base",
          "model_name": "LayoutModel",
          "model_module_version": "1.2.0",
          "state": {
            "_view_name": "LayoutView",
            "grid_template_rows": null,
            "right": null,
            "justify_content": null,
            "_view_module": "@jupyter-widgets/base",
            "overflow": null,
            "_model_module_version": "1.2.0",
            "_view_count": null,
            "flex_flow": null,
            "width": null,
            "min_width": null,
            "border": null,
            "align_items": null,
            "bottom": null,
            "_model_module": "@jupyter-widgets/base",
            "top": null,
            "grid_column": null,
            "overflow_y": null,
            "overflow_x": null,
            "grid_auto_flow": null,
            "grid_area": null,
            "grid_template_columns": null,
            "flex": null,
            "_model_name": "LayoutModel",
            "justify_items": null,
            "grid_row": null,
            "max_height": null,
            "align_content": null,
            "visibility": null,
            "align_self": null,
            "height": null,
            "min_height": null,
            "padding": null,
            "grid_auto_rows": null,
            "grid_gap": null,
            "max_width": null,
            "order": null,
            "_view_module_version": "1.2.0",
            "grid_template_areas": null,
            "object_position": null,
            "object_fit": null,
            "grid_auto_columns": null,
            "margin": null,
            "display": null,
            "left": null
          }
        }
      }
    }
  },
  "cells": [
    {
      "cell_type": "markdown",
      "metadata": {
        "id": "730cd502"
      },
      "source": [
        "### References\n",
        "\n",
        "- https://adversarial-ml-tutorial.org/adversarial_examples/\n",
        "- https://arxiv.org/pdf/1905.02175.pdf"
      ],
      "id": "730cd502"
    },
    {
      "cell_type": "code",
      "metadata": {
        "id": "SXq0yTwYiTTc"
      },
      "source": [
        "import tensorflow as tf\n",
        "from tensorflow import keras as K\n",
        "import tensorflow_datasets as tfds\n",
        "\n",
        "import numpy as np\n",
        "import scipy.stats as sp\n",
        "import matplotlib.pyplot as plt\n",
        "import pandas as pd\n",
        "import time"
      ],
      "id": "SXq0yTwYiTTc",
      "execution_count": 1,
      "outputs": []
    },
    {
      "cell_type": "code",
      "metadata": {
        "colab": {
          "base_uri": "https://localhost:8080/"
        },
        "id": "qeFVWfmWmNpc",
        "outputId": "e698ef9b-77aa-4c0e-c3c9-e5cda829decf"
      },
      "source": [
        "# Enable/Disable Eager Execution\n",
        "# Reference: https://www.tensorflow.org/guide/eager\n",
        "# TensorFlow's eager execution is an imperative programming environment that evaluates operations immediately, \n",
        "# without building graphs\n",
        "\n",
        "#tf.compat.v1.disable_eager_execution()\n",
        "#tf.compat.v1.enable_eager_execution()\n",
        "\n",
        "print(\"tensorflow version\", tf.__version__)\n",
        "print(\"keras version\", tf.keras.__version__)\n",
        "print(\"Eager Execution Enabled:\", tf.executing_eagerly())\n",
        "\n",
        "# Get the number of replicas \n",
        "strategy = tf.distribute.MirroredStrategy()\n",
        "print(\"Number of replicas:\", strategy.num_replicas_in_sync)\n",
        "\n",
        "devices = tf.config.experimental.get_visible_devices()\n",
        "print(\"Devices:\", devices)\n",
        "print(tf.config.experimental.list_logical_devices('GPU'))\n",
        "\n",
        "print(\"GPU Available: \", tf.config.list_physical_devices('GPU'))\n",
        "print(\"All Physical Devices\", tf.config.list_physical_devices())\n",
        "\n",
        "# Better performance with the tf.data API\n",
        "# Reference: https://www.tensorflow.org/guide/data_performance\n",
        "AUTOTUNE = tf.data.experimental.AUTOTUNE\n"
      ],
      "id": "qeFVWfmWmNpc",
      "execution_count": 2,
      "outputs": [
        {
          "output_type": "stream",
          "name": "stdout",
          "text": [
            "tensorflow version 2.7.0\n",
            "keras version 2.7.0\n",
            "Eager Execution Enabled: True\n",
            "INFO:tensorflow:Using MirroredStrategy with devices ('/job:localhost/replica:0/task:0/device:GPU:0',)\n",
            "Number of replicas: 1\n",
            "Devices: [PhysicalDevice(name='/physical_device:CPU:0', device_type='CPU'), PhysicalDevice(name='/physical_device:GPU:0', device_type='GPU')]\n",
            "[LogicalDevice(name='/device:GPU:0', device_type='GPU')]\n",
            "GPU Available:  [PhysicalDevice(name='/physical_device:GPU:0', device_type='GPU')]\n",
            "All Physical Devices [PhysicalDevice(name='/physical_device:CPU:0', device_type='CPU'), PhysicalDevice(name='/physical_device:GPU:0', device_type='GPU')]\n"
          ]
        }
      ]
    },
    {
      "cell_type": "code",
      "metadata": {
        "colab": {
          "base_uri": "https://localhost:8080/"
        },
        "id": "4TEVdkEamZxY",
        "outputId": "b3e2353c-054b-4f3a-ddc9-b4417efec60e"
      },
      "source": [
        "!nvidia-smi"
      ],
      "id": "4TEVdkEamZxY",
      "execution_count": 3,
      "outputs": [
        {
          "output_type": "stream",
          "name": "stdout",
          "text": [
            "Mon Dec  6 17:56:13 2021       \n",
            "+-----------------------------------------------------------------------------+\n",
            "| NVIDIA-SMI 495.44       Driver Version: 460.32.03    CUDA Version: 11.2     |\n",
            "|-------------------------------+----------------------+----------------------+\n",
            "| GPU  Name        Persistence-M| Bus-Id        Disp.A | Volatile Uncorr. ECC |\n",
            "| Fan  Temp  Perf  Pwr:Usage/Cap|         Memory-Usage | GPU-Util  Compute M. |\n",
            "|                               |                      |               MIG M. |\n",
            "|===============================+======================+======================|\n",
            "|   0  Tesla P100-PCIE...  Off  | 00000000:00:04.0 Off |                    0 |\n",
            "| N/A   37C    P0    32W / 250W |    375MiB / 16280MiB |      1%      Default |\n",
            "|                               |                      |                  N/A |\n",
            "+-------------------------------+----------------------+----------------------+\n",
            "                                                                               \n",
            "+-----------------------------------------------------------------------------+\n",
            "| Processes:                                                                  |\n",
            "|  GPU   GI   CI        PID   Type   Process name                  GPU Memory |\n",
            "|        ID   ID                                                   Usage      |\n",
            "|=============================================================================|\n",
            "|  No running processes found                                                 |\n",
            "+-----------------------------------------------------------------------------+\n"
          ]
        }
      ]
    },
    {
      "cell_type": "code",
      "metadata": {
        "id": "iYXwSMAHiZZf"
      },
      "source": [
        "def build_cnn_model(n_layers, n_filters, kernel_size=3, n_classes=10, model_name='basic_cnn'):\n",
        "    \"\"\"Builds basic CNN model for adversarial training; will need to be refactored\n",
        "    non-using default train setup\"\"\"\n",
        "    input_layer = tf.keras.layers.Input(shape=(28,28,1))\n",
        "    \n",
        "    # Add basic convolutional_layer\n",
        "    hidden = tf.keras.layers.Conv2D(n_filters, kernel_size=3, strides=2, activation = 'relu')(input_layer)\n",
        "    # Add single dense, non-linear layer\n",
        "    hidden = tf.keras.layers.Flatten()(hidden)\n",
        "    hidden = tf.keras.layers.Dense(16, activation = 'relu')(hidden)\n",
        "    output = tf.keras.layers.Dense(n_classes, activation='softmax')(hidden) # softmax since multiclass class. problem\n",
        "    \n",
        "    model = tf.keras.Model(inputs=input_layer, outputs=output)\n",
        "    return model"
      ],
      "id": "iYXwSMAHiZZf",
      "execution_count": 4,
      "outputs": []
    },
    {
      "cell_type": "code",
      "metadata": {
        "id": "Z-99Ws-giVpP"
      },
      "source": [
        "def normalize(img, label):\n",
        "    return img / 255, label\n",
        "\n",
        "def make_tf_data(raw_ds):\n",
        "    ds = raw_ds.map(normalize)\n",
        "    return ds"
      ],
      "id": "Z-99Ws-giVpP",
      "execution_count": 5,
      "outputs": []
    },
    {
      "cell_type": "code",
      "metadata": {
        "id": "BMqd9SaDiVrj",
        "colab": {
          "base_uri": "https://localhost:8080/",
          "height": 188,
          "referenced_widgets": [
            "1859ec790f6941d086f6e2a339aa2599",
            "76360b5b49314dda9e5b3ba5c8a29b91",
            "3c1102b266b34c8fbfd5362a0d3f126e",
            "4be797953a1b4709811879c881694df0",
            "8817ef7f24b247c5bd402a1e9e2b4207",
            "08c4403342ff4addaff12b2eb44191ca",
            "0fa4b9dc64214c079accc6f04fc8f09b",
            "5a68219c7b57460aa9833bf4cdf159d8",
            "66dc8502092c402098b1f73e268a3204",
            "db6457f4ee884b22878f1fa60d34e848",
            "7b677c7ac420455cb5fe57bcbc11acee"
          ]
        },
        "outputId": "38ceecfc-e811-435c-d197-4c6a73f669e8"
      },
      "source": [
        "train_ds = tfds.load('mnist', split='train', shuffle_files=True, as_supervised=True, batch_size=32)\n",
        "test_ds = tfds.load('mnist', split='test', shuffle_files=True, as_supervised=True, batch_size=32)\n",
        "\n",
        "train_ds = make_tf_data(train_ds)\n",
        "test_ds = make_tf_data(test_ds)"
      ],
      "id": "BMqd9SaDiVrj",
      "execution_count": 6,
      "outputs": [
        {
          "output_type": "stream",
          "name": "stdout",
          "text": [
            "\u001b[1mDownloading and preparing dataset mnist/3.0.1 (download: 11.06 MiB, generated: 21.00 MiB, total: 32.06 MiB) to /root/tensorflow_datasets/mnist/3.0.1...\u001b[0m\n"
          ]
        },
        {
          "output_type": "stream",
          "name": "stderr",
          "text": [
            "WARNING:absl:Dataset mnist is hosted on GCS. It will automatically be downloaded to your\n",
            "local data directory. If you'd instead prefer to read directly from our public\n",
            "GCS bucket (recommended if you're running on GCP), you can instead pass\n",
            "`try_gcs=True` to `tfds.load` or set `data_dir=gs://tfds-data/datasets`.\n",
            "\n"
          ]
        },
        {
          "output_type": "display_data",
          "data": {
            "application/vnd.jupyter.widget-view+json": {
              "model_id": "1859ec790f6941d086f6e2a339aa2599",
              "version_minor": 0,
              "version_major": 2
            },
            "text/plain": [
              "Dl Completed...:   0%|          | 0/4 [00:00<?, ? file/s]"
            ]
          },
          "metadata": {}
        },
        {
          "output_type": "stream",
          "name": "stdout",
          "text": [
            "\n",
            "\u001b[1mDataset mnist downloaded and prepared to /root/tensorflow_datasets/mnist/3.0.1. Subsequent calls will reuse this data.\u001b[0m\n"
          ]
        }
      ]
    },
    {
      "cell_type": "markdown",
      "metadata": {
        "id": "6uYCor8ci6lO"
      },
      "source": [
        "# Train Standard Classifier"
      ],
      "id": "6uYCor8ci6lO"
    },
    {
      "cell_type": "code",
      "metadata": {
        "id": "t4JuOAF5jOyx"
      },
      "source": [
        "def standard_training(model, train_ds, test_ds, attack=None, epochs=5, verbose=True, **kwargs):\n",
        "    \"\"\"Runs the \"standard\" training loop described in Ilyas et al. (2019)\n",
        "    \n",
        "    Standard training includes non-adversarial training during each training step. Includes\n",
        "    optional adversarial attacks at test time described by the `attack` argument\n",
        "    \n",
        "    Args:\n",
        "        - model (TFModel): A compiled TF / Keras model\n",
        "        - train_ds (TFData): a tensorflow data object for the training data\n",
        "        - test_ds (TFData): a tensorflow data object for the test data \n",
        "        - attack (function): an attack function (i.e. PGD L2) to perturb\n",
        "                test data if evaluating adversarial performance. Default : None\n",
        "        - epochs (int): number of epochs to run training. Default: 5.\n",
        "        - verbose (bool): Report results after each epoch. Otherwise\n",
        "                will return the train / test accuracies at the end of training. \n",
        "                Default: True\"\"\"\n",
        "\n",
        "    for n in range(epochs):\n",
        "    \n",
        "        t = time.time()\n",
        "        train_losses = []\n",
        "        train_accs = []\n",
        "        for b in train_ds: # we're going to get multiple batches over a single epoch\n",
        "            X, y = b\n",
        "\n",
        "            l, acc = model.train_on_batch(X, y) # Does one gradient update on a single batch\n",
        "            train_losses.append(l)\n",
        "            train_accs.append(acc)\n",
        "\n",
        "        test_losses = []\n",
        "        test_accs = []\n",
        "        for vb in test_ds:\n",
        "            Xtest, ytest = vb\n",
        "            \n",
        "            # When attack is specified (ie not None), apply\n",
        "            # attack at test time; do not apply in training due to\n",
        "            # 'standard_training' definition\n",
        "            if attack is not None:\n",
        "                # delta = pgd_l2_adv(C_model, X, t, epsilon=0.5, alpha=0.1, num_iter=50)\n",
        "                delta = attack(model, Xtest, ytest, epsilon=0.5, alpha=0.1, num_iter=50)\n",
        "                Xdtest = Xtest + delta\n",
        "            else:\n",
        "                Xdtest = Xtest\n",
        "            \n",
        "            l, acc = model.test_on_batch(Xdtest, ytest)\n",
        "            test_losses.append(l)\n",
        "            test_accs.append(acc)\n",
        "        \n",
        "        train_loss = sum(train_losses) / len(train_losses) # Across entire epoch, scalar\n",
        "        train_acc = sum(train_accs) / len(train_accs)\n",
        "        \n",
        "        test_loss = sum(test_losses) / len(test_losses)\n",
        "        test_acc = sum(test_accs) / len(test_accs)\n",
        "        \n",
        "        if verbose:\n",
        "            print(f\"Epoch {n+1}/{epochs}, Time: {(time.time()-t):0.2f} -- Train Loss: {train_loss:0.2f}, \\\n",
        "                Train Acc: {train_acc:0.2f}, Test Loss: {test_loss:0.2f}, Test Acc: {test_acc:0.2f}\")\n",
        "    \n",
        "    # Return the model\n",
        "    return model\n",
        "\n",
        "    # # Return final train and test losses\n",
        "    # if verbose == False:\n",
        "    #     return {'train_loss': train_loss, 'train_acc': train_acc, 'test_loss': test_loss, 'test_acc': test_acc}"
      ],
      "id": "t4JuOAF5jOyx",
      "execution_count": 16,
      "outputs": []
    },
    {
      "cell_type": "code",
      "metadata": {
        "colab": {
          "base_uri": "https://localhost:8080/"
        },
        "id": "cbZ8WYTTiVt4",
        "outputId": "2c288924-10f7-45d9-e4f8-aae49c15be0f"
      },
      "source": [
        "# C_model is a standard model trained on the original dataset\n",
        "C_model = build_cnn_model(1, 32) # 1st arg is number of layers, 2nd arg is number of filters in Conv2 layer\n",
        "C_model.compile(\n",
        "    optimizer = tf.keras.optimizers.Adam(),\n",
        "    loss = tf.keras.losses.SparseCategoricalCrossentropy(),\n",
        "    metrics = ['accuracy']\n",
        ")\n",
        "\n",
        "C_model = standard_training(C_model, train_ds, test_ds, attack=None, epochs=5, verbose=True)"
      ],
      "id": "cbZ8WYTTiVt4",
      "execution_count": 8,
      "outputs": [
        {
          "output_type": "stream",
          "name": "stdout",
          "text": [
            "Epoch 1/5, Time: 31.65 -- Train Loss: 0.28,                 Train Acc: 0.92, Test Loss: 0.12, Test Acc: 0.96\n",
            "Epoch 2/5, Time: 15.51 -- Train Loss: 0.11,                 Train Acc: 0.97, Test Loss: 0.09, Test Acc: 0.97\n",
            "Epoch 3/5, Time: 15.50 -- Train Loss: 0.08,                 Train Acc: 0.98, Test Loss: 0.08, Test Acc: 0.97\n",
            "Epoch 4/5, Time: 15.60 -- Train Loss: 0.06,                 Train Acc: 0.98, Test Loss: 0.08, Test Acc: 0.98\n",
            "Epoch 5/5, Time: 15.49 -- Train Loss: 0.05,                 Train Acc: 0.98, Test Loss: 0.08, Test Acc: 0.98\n"
          ]
        }
      ]
    },
    {
      "cell_type": "markdown",
      "metadata": {
        "id": "DQ2mersAoYs9"
      },
      "source": [
        "# Generate Non-Robust Dataset"
      ],
      "id": "DQ2mersAoYs9"
    },
    {
      "cell_type": "code",
      "metadata": {
        "id": "JxEilAb8qXTF"
      },
      "source": [
        "def norm(Z):\n",
        "    \"\"\"Compute norms over all but the first dimension\"\"\"\n",
        "    return tf.norm(Z[0,:,:,:]) # This is L2 norm by default\n",
        "    # tf.norm(Z[0,:,:,:], ord=np.inf) # This is for L-inf ball\n",
        "\n",
        "# PGD L2 for Adversarial Examples #\n",
        "def single_pgd_step_adv(model, X, y, alpha, epsilon, delta):\n",
        "    with tf.GradientTape() as tape:\n",
        "        tape.watch(delta)\n",
        "        loss = tf.keras.losses.SparseCategoricalCrossentropy()(y, model(X + delta)) # comparing to label for original data point\n",
        "\n",
        "    grad = tape.gradient(loss, delta)\n",
        "    delta += alpha*grad / norm(grad) # normalized gradient step\n",
        "    delta = tf.math.minimum(tf.math.maximum(delta, -X), 1-X) # clip X+delta to [0,1]\n",
        "    # Note: ^ What does min and max do? It seems to make sure that when we add delta to X later, X is in [0,1]\n",
        "    # Distinguishes _adv from _robust – bounds the change to the image\n",
        "    delta *= epsilon / tf.clip_by_value(norm(delta), epsilon, np.inf)\n",
        "    # Note: Ask Mark and Kevin\n",
        "    \n",
        "    return delta, loss\n",
        "    \n",
        "@tf.function\n",
        "def pgd_l2_adv(model, X, y, alpha, num_iter, epsilon=0, example=False):\n",
        "    delta = tf.zeros_like(X)\n",
        "    loss = 0\n",
        "    for t in range(num_iter):\n",
        "        delta, loss = single_pgd_step_adv(model, X, y, alpha, epsilon, delta)\n",
        "        \n",
        "    if example:\n",
        "        print(f'{num_iter} iterations, final MSE {loss}')\n",
        "    return delta"
      ],
      "id": "JxEilAb8qXTF",
      "execution_count": 9,
      "outputs": []
    },
    {
      "cell_type": "code",
      "metadata": {
        "id": "ZeoKZIh-iV2n",
        "colab": {
          "base_uri": "https://localhost:8080/"
        },
        "outputId": "6145477e-e125-498b-92e3-5cb6de5eaf92"
      },
      "source": [
        "%%time\n",
        "\n",
        "original_train = []\n",
        "non_robust_train = []\n",
        "t_train = [] \n",
        "y_train = []\n",
        "\n",
        "\n",
        "start_time = time.time()\n",
        "# Loops through entire train dataset image-by-image\n",
        "for i, b in enumerate(train_ds.unbatch()): # Unbatch splits batches into individual images\n",
        "    i+=1\n",
        "    X, y = b\n",
        "    X = tf.expand_dims(X, 0) # 1st dimension is batch size\n",
        "    X_t = X\n",
        "\n",
        "    # Generate a random label, get the delta and add in the perturbation\n",
        "    t = np.random.randint(0, 10)\n",
        "    delta = pgd_l2_adv(C_model, X, t, epsilon=0.5, alpha=0.1, num_iter=50)\n",
        "    X_t += delta\n",
        "    X_t = X_t[0,:,:,:]\n",
        "    X = X[0,:,:,:]\n",
        "\n",
        "    # Append this image and label to the list\n",
        "    original_train.append(X)\n",
        "    y_train.append(y)\n",
        "    non_robust_train.append(X_t)\n",
        "    t_train.append(t)\n",
        "\n",
        "    if i%1000 == 0:\n",
        "        elapsed = time.time() - start_time\n",
        "        print(f'Unrobustified {i} images in {elapsed:0.3f} seconds')\n",
        "        start_time = time.time()\n",
        "\n",
        "original_ds   = tf.data.Dataset.from_tensor_slices((original_train, y_train)).batch(32)\n",
        "non_robust_ds = tf.data.Dataset.from_tensor_slices((non_robust_train, t_train)).batch(32)"
      ],
      "id": "ZeoKZIh-iV2n",
      "execution_count": 10,
      "outputs": [
        {
          "output_type": "stream",
          "name": "stdout",
          "text": [
            "WARNING:tensorflow:5 out of the last 5 calls to <function pgd_l2_adv at 0x7fef22e95170> triggered tf.function retracing. Tracing is expensive and the excessive number of tracings could be due to (1) creating @tf.function repeatedly in a loop, (2) passing tensors with different shapes, (3) passing Python objects instead of tensors. For (1), please define your @tf.function outside of the loop. For (2), @tf.function has experimental_relax_shapes=True option that relaxes argument shapes that can avoid unnecessary retracing. For (3), please refer to https://www.tensorflow.org/guide/function#controlling_retracing and https://www.tensorflow.org/api_docs/python/tf/function for  more details.\n"
          ]
        },
        {
          "output_type": "stream",
          "name": "stderr",
          "text": [
            "WARNING:tensorflow:5 out of the last 5 calls to <function pgd_l2_adv at 0x7fef22e95170> triggered tf.function retracing. Tracing is expensive and the excessive number of tracings could be due to (1) creating @tf.function repeatedly in a loop, (2) passing tensors with different shapes, (3) passing Python objects instead of tensors. For (1), please define your @tf.function outside of the loop. For (2), @tf.function has experimental_relax_shapes=True option that relaxes argument shapes that can avoid unnecessary retracing. For (3), please refer to https://www.tensorflow.org/guide/function#controlling_retracing and https://www.tensorflow.org/api_docs/python/tf/function for  more details.\n"
          ]
        },
        {
          "output_type": "stream",
          "name": "stdout",
          "text": [
            "WARNING:tensorflow:6 out of the last 8 calls to <function pgd_l2_adv at 0x7fef22e95170> triggered tf.function retracing. Tracing is expensive and the excessive number of tracings could be due to (1) creating @tf.function repeatedly in a loop, (2) passing tensors with different shapes, (3) passing Python objects instead of tensors. For (1), please define your @tf.function outside of the loop. For (2), @tf.function has experimental_relax_shapes=True option that relaxes argument shapes that can avoid unnecessary retracing. For (3), please refer to https://www.tensorflow.org/guide/function#controlling_retracing and https://www.tensorflow.org/api_docs/python/tf/function for  more details.\n"
          ]
        },
        {
          "output_type": "stream",
          "name": "stderr",
          "text": [
            "WARNING:tensorflow:6 out of the last 8 calls to <function pgd_l2_adv at 0x7fef22e95170> triggered tf.function retracing. Tracing is expensive and the excessive number of tracings could be due to (1) creating @tf.function repeatedly in a loop, (2) passing tensors with different shapes, (3) passing Python objects instead of tensors. For (1), please define your @tf.function outside of the loop. For (2), @tf.function has experimental_relax_shapes=True option that relaxes argument shapes that can avoid unnecessary retracing. For (3), please refer to https://www.tensorflow.org/guide/function#controlling_retracing and https://www.tensorflow.org/api_docs/python/tf/function for  more details.\n"
          ]
        },
        {
          "output_type": "stream",
          "name": "stdout",
          "text": [
            "Unrobustified 1000 images in 92.813 seconds\n",
            "Unrobustified 2000 images in 30.600 seconds\n",
            "Unrobustified 3000 images in 30.566 seconds\n",
            "Unrobustified 4000 images in 30.479 seconds\n",
            "Unrobustified 5000 images in 30.382 seconds\n",
            "Unrobustified 6000 images in 30.414 seconds\n",
            "Unrobustified 7000 images in 30.390 seconds\n",
            "Unrobustified 8000 images in 30.435 seconds\n",
            "Unrobustified 9000 images in 30.209 seconds\n",
            "Unrobustified 10000 images in 30.412 seconds\n",
            "Unrobustified 11000 images in 30.536 seconds\n",
            "Unrobustified 12000 images in 30.499 seconds\n",
            "Unrobustified 13000 images in 30.333 seconds\n",
            "Unrobustified 14000 images in 30.308 seconds\n",
            "Unrobustified 15000 images in 30.368 seconds\n",
            "Unrobustified 16000 images in 30.237 seconds\n",
            "Unrobustified 17000 images in 30.384 seconds\n",
            "Unrobustified 18000 images in 30.394 seconds\n",
            "Unrobustified 19000 images in 30.316 seconds\n",
            "Unrobustified 20000 images in 30.266 seconds\n",
            "Unrobustified 21000 images in 30.135 seconds\n",
            "Unrobustified 22000 images in 30.307 seconds\n",
            "Unrobustified 23000 images in 30.475 seconds\n",
            "Unrobustified 24000 images in 30.303 seconds\n",
            "Unrobustified 25000 images in 30.418 seconds\n",
            "Unrobustified 26000 images in 30.491 seconds\n",
            "Unrobustified 27000 images in 30.520 seconds\n",
            "Unrobustified 28000 images in 30.519 seconds\n",
            "Unrobustified 29000 images in 30.313 seconds\n",
            "Unrobustified 30000 images in 30.102 seconds\n",
            "Unrobustified 31000 images in 30.312 seconds\n",
            "Unrobustified 32000 images in 30.320 seconds\n",
            "Unrobustified 33000 images in 30.394 seconds\n",
            "Unrobustified 34000 images in 30.201 seconds\n",
            "Unrobustified 35000 images in 30.206 seconds\n",
            "Unrobustified 36000 images in 30.364 seconds\n",
            "Unrobustified 37000 images in 30.134 seconds\n",
            "Unrobustified 38000 images in 30.218 seconds\n",
            "Unrobustified 39000 images in 30.243 seconds\n",
            "Unrobustified 40000 images in 30.171 seconds\n",
            "Unrobustified 41000 images in 30.841 seconds\n",
            "Unrobustified 42000 images in 30.343 seconds\n",
            "Unrobustified 43000 images in 30.516 seconds\n",
            "Unrobustified 44000 images in 30.424 seconds\n",
            "Unrobustified 45000 images in 30.200 seconds\n",
            "Unrobustified 46000 images in 30.242 seconds\n",
            "Unrobustified 47000 images in 30.132 seconds\n",
            "Unrobustified 48000 images in 30.428 seconds\n",
            "Unrobustified 49000 images in 30.361 seconds\n",
            "Unrobustified 50000 images in 30.253 seconds\n",
            "Unrobustified 51000 images in 30.007 seconds\n",
            "Unrobustified 52000 images in 30.243 seconds\n",
            "Unrobustified 53000 images in 30.316 seconds\n",
            "Unrobustified 54000 images in 30.276 seconds\n",
            "Unrobustified 55000 images in 30.294 seconds\n",
            "Unrobustified 56000 images in 30.189 seconds\n",
            "Unrobustified 57000 images in 30.282 seconds\n",
            "Unrobustified 58000 images in 30.289 seconds\n",
            "Unrobustified 59000 images in 30.230 seconds\n",
            "Unrobustified 60000 images in 30.369 seconds\n",
            "CPU times: user 31min 36s, sys: 15.1 s, total: 31min 51s\n",
            "Wall time: 31min 29s\n"
          ]
        }
      ]
    },
    {
      "cell_type": "code",
      "metadata": {
        "colab": {
          "base_uri": "https://localhost:8080/"
        },
        "id": "PX7w9CVMVGvN",
        "outputId": "6e709c2a-aabb-45c1-820d-295800950686"
      },
      "source": [
        "print(type(original_ds))\n",
        "print(type(non_robust_ds))"
      ],
      "id": "PX7w9CVMVGvN",
      "execution_count": 11,
      "outputs": [
        {
          "output_type": "stream",
          "name": "stdout",
          "text": [
            "<class 'tensorflow.python.data.ops.dataset_ops.BatchDataset'>\n",
            "<class 'tensorflow.python.data.ops.dataset_ops.BatchDataset'>\n"
          ]
        }
      ]
    },
    {
      "cell_type": "code",
      "metadata": {
        "colab": {
          "base_uri": "https://localhost:8080/",
          "height": 879
        },
        "id": "y89dfABIvYut",
        "outputId": "5a1fa057-d477-4e7a-e925-3e71d75ed103"
      },
      "source": [
        "fig, ax = plt.subplots(2,2, figsize=(15,15))\n",
        "\n",
        "for i, b in enumerate(non_robust_ds.unbatch()):\n",
        "    X, t = b\n",
        "    ax[i,0].imshow(X.numpy().squeeze())\n",
        "    ax[i,0].set_title(f'Non-robust label for image: {t}')\n",
        "    \n",
        "    if i == 1:\n",
        "      break\n",
        "\n",
        "for i, b in enumerate(original_ds.unbatch()):\n",
        "    X, y = b\n",
        "    ax[i,1].imshow(X.numpy().squeeze())\n",
        "    ax[i,1].set_title(f'Original label for image: {y}')\n",
        "\n",
        "    if i == 1:\n",
        "      break\n"
      ],
      "id": "y89dfABIvYut",
      "execution_count": 12,
      "outputs": [
        {
          "output_type": "display_data",
          "data": {
            "image/png": "[encoded data removed]",
            "text/plain": [
              "<Figure size 1080x1080 with 4 Axes>"
            ]
          },
          "metadata": {
            "needs_background": "light"
          }
        }
      ]
    },
    {
      "cell_type": "code",
      "metadata": {
        "id": "wF4K9mTn5w70"
      },
      "source": [
        "tf.data.experimental.save(\n",
        "    non_robust_ds, 'non_robust_ds')\n",
        "tf.data.experimental.save(\n",
        "    original_ds, 'original_ds')"
      ],
      "id": "wF4K9mTn5w70",
      "execution_count": 13,
      "outputs": []
    },
    {
      "cell_type": "code",
      "metadata": {
        "colab": {
          "base_uri": "https://localhost:8080/"
        },
        "id": "FHTlANwZHMAp",
        "outputId": "90644356-cf21-4b08-f036-70c8b25218fc"
      },
      "source": [
        "# exporting the tf data from Colab to my drive\n",
        "from google.colab import drive\n",
        "drive.mount(\"/content/gdrive\")\n",
        "\n",
        "!cp -r \"/content/nonrobust_train_ds\" \"/content/gdrive/My Drive/\"\n",
        "!cp -r \"/content/original_train_ds\" \"/content/gdrive/My Drive/\""
      ],
      "id": "FHTlANwZHMAp",
      "execution_count": 18,
      "outputs": [
        {
          "output_type": "stream",
          "name": "stdout",
          "text": [
            "Mounted at /content/gdrive\n"
          ]
        }
      ]
    },
    {
      "cell_type": "markdown",
      "metadata": {
        "id": "Bu-M99aTEPCd"
      },
      "source": [
        "# Perform Standard Training on Non-robust dataset"
      ],
      "id": "Bu-M99aTEPCd"
    },
    {
      "cell_type": "code",
      "metadata": {
        "colab": {
          "base_uri": "https://localhost:8080/"
        },
        "id": "bIBAVFPeENhZ",
        "outputId": "dfdd849e-8c2b-432b-ddd9-7251717cd1e7"
      },
      "source": [
        "# here we are taking the non robust training dataset, training a standard classifier, and seeing its performance on the unmodified test set\n",
        "\n",
        "standard_model_non_robust_train = build_cnn_model(1, 32) # 1st arg is number of layers, 2nd arg is number of filters in Conv2 layer\n",
        "standard_model_non_robust_train.compile(\n",
        "    optimizer = tf.keras.optimizers.Adam(),\n",
        "    loss = tf.keras.losses.SparseCategoricalCrossentropy(),\n",
        "    metrics = ['accuracy']\n",
        ")\n",
        "\n",
        "standard_model_non_robust_train = standard_training(standard_model_non_robust_train, non_robust_ds, test_ds, attack=None, epochs=5, verbose=True)"
      ],
      "id": "bIBAVFPeENhZ",
      "execution_count": 14,
      "outputs": [
        {
          "output_type": "stream",
          "name": "stdout",
          "text": [
            "Epoch 1/5, Time: 16.45 -- Train Loss: 0.78,                 Train Acc: 0.75, Test Loss: 2.70, Test Acc: 0.28\n",
            "Epoch 2/5, Time: 16.09 -- Train Loss: 0.16,                 Train Acc: 0.95, Test Loss: 3.58, Test Acc: 0.27\n",
            "Epoch 3/5, Time: 15.79 -- Train Loss: 0.08,                 Train Acc: 0.98, Test Loss: 4.39, Test Acc: 0.25\n",
            "Epoch 4/5, Time: 15.83 -- Train Loss: 0.05,                 Train Acc: 0.99, Test Loss: 4.71, Test Acc: 0.28\n",
            "Epoch 5/5, Time: 16.15 -- Train Loss: 0.03,                 Train Acc: 0.99, Test Loss: 5.17, Test Acc: 0.26\n"
          ]
        }
      ]
    },
    {
      "cell_type": "code",
      "metadata": {
        "colab": {
          "base_uri": "https://localhost:8080/"
        },
        "id": "e1_o-UyTCbeu",
        "outputId": "6af5b413-8947-40fb-817f-c7155eb0c1e5"
      },
      "source": [
        "# here we are taking the non robust training dataset, training a standard classifier, and seeing its performance on the test set that has a PGD L2 attack\n",
        "\n",
        "standard_model_non_robust_train = build_cnn_model(1, 32) # 1st arg is number of layers, 2nd arg is number of filters in Conv2 layer\n",
        "standard_model_non_robust_train.compile(\n",
        "    optimizer = tf.keras.optimizers.Adam(),\n",
        "    loss = tf.keras.losses.SparseCategoricalCrossentropy(),\n",
        "    metrics = ['accuracy']\n",
        ")\n",
        "\n",
        "standard_model_non_robust_train = standard_training(standard_model_non_robust_train, non_robust_ds, test_ds, attack=pgd_l2_adv, epochs=5, verbose=True)"
      ],
      "id": "e1_o-UyTCbeu",
      "execution_count": 17,
      "outputs": [
        {
          "output_type": "stream",
          "name": "stdout",
          "text": [
            "Epoch 1/5, Time: 37.09 -- Train Loss: 0.78,                 Train Acc: 0.76, Test Loss: 36.56, Test Acc: 0.00\n",
            "Epoch 2/5, Time: 25.25 -- Train Loss: 0.15,                 Train Acc: 0.96, Test Loss: 49.64, Test Acc: 0.00\n",
            "Epoch 3/5, Time: 25.23 -- Train Loss: 0.08,                 Train Acc: 0.98, Test Loss: 60.11, Test Acc: 0.00\n",
            "Epoch 4/5, Time: 25.24 -- Train Loss: 0.05,                 Train Acc: 0.99, Test Loss: 68.28, Test Acc: 0.00\n",
            "Epoch 5/5, Time: 41.07 -- Train Loss: 0.03,                 Train Acc: 0.99, Test Loss: 76.23, Test Acc: 0.00\n"
          ]
        }
      ]
    },
    {
      "cell_type": "code",
      "metadata": {
        "id": "QxAoYmsoQBnj"
      },
      "source": [
        ""
      ],
      "id": "QxAoYmsoQBnj",
      "execution_count": 20,
      "outputs": []
    },
    {
      "cell_type": "code",
      "metadata": {
        "id": "q7KPZW8kQSSY"
      },
      "source": [
        ""
      ],
      "id": "q7KPZW8kQSSY",
      "execution_count": 21,
      "outputs": []
    }
  ]
}